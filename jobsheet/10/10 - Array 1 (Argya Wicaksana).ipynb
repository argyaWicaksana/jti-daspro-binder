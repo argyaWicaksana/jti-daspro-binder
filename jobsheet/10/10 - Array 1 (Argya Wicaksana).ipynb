{
 "cells": [
  {
   "cell_type": "markdown",
   "metadata": {},
   "source": [
    "# JOBSHEET 10 - Array 1\n",
    "\n",
    "## Tujuan\n",
    "+ Mahasiswa mampu memahami pembuatan Array 1 dimensi dan pengaksesan elemenya di Java. \n",
    "+ Mahasiswa mampu membuat program dengan menggunakan konsep array satu dimensi.\n",
    "\n",
    "\n",
    "## Alat dan Bahan\n",
    "+ PC/laptop\n",
    "+ Browser(chrome, firefox, safari)\n",
    "+ Koneksi internet\n",
    "+ Anaconda3 + Java kernel (opsional)\n",
    "\n",
    "## Praktikum\n",
    "### Percobaan 1: Mengisi Elemen Array\n",
    "1. Pada percobaan ke-1 akan dilakukan percobaan untuk mengisi elemen array. Buat array bertipe integer dengan nama bil dengan kapasitas 4 elemen.\n",
    "![Gambar 0](images/P1L2.png)"
   ]
  },
  {
   "cell_type": "code",
   "execution_count": 3,
   "metadata": {},
   "outputs": [],
   "source": [
    "int[] bil=new int[4];\n"
   ]
  },
  {
   "cell_type": "markdown",
   "metadata": {},
   "source": [
    "2. Isi masing-masing elemen array bil tadi dengan angka 5, 12, 7, 20.\n",
    "![Gambar 0](images/P1L3.png)"
   ]
  },
  {
   "cell_type": "code",
   "execution_count": 4,
   "metadata": {},
   "outputs": [
    {
     "data": {
      "text/plain": [
       "20"
      ]
     },
     "execution_count": 4,
     "metadata": {},
     "output_type": "execute_result"
    }
   ],
   "source": [
    "bil[0]=5;\n",
    "bil[1]=12;\n",
    "bil[2]=7;\n",
    "bil[3]=20;"
   ]
  },
  {
   "cell_type": "markdown",
   "metadata": {},
   "source": [
    "3. Tampilkan ke layar semua isi elemennya:\n",
    "![Gambar 4](images/P1L4.png)"
   ]
  },
  {
   "cell_type": "code",
   "execution_count": 6,
   "metadata": {},
   "outputs": [
    {
     "name": "stdout",
     "output_type": "stream",
     "text": [
      "5\n",
      "12\n",
      "7\n",
      "20\n"
     ]
    }
   ],
   "source": [
    "System.out.println(bil[0]);\n",
    "System.out.println(bil[1]);\n",
    "System.out.println(bil[2]);\n",
    "System.out.println(bil[3]);"
   ]
  },
  {
   "cell_type": "markdown",
   "metadata": {},
   "source": [
    "#### Pertanyaan \n",
    "1. Dari percobaan 1 berapakah indeks array terbesar dan terkecil?"
   ]
  },
  {
   "cell_type": "markdown",
   "metadata": {},
   "source": [
    "terbesar=3\n",
    "terkecil=0"
   ]
  },
  {
   "cell_type": "markdown",
   "metadata": {},
   "source": [
    "2. Jika Isi masing-masing elemen array bil diubah dengan angka 5.0, 12867, 7.5, 2000000. Apa yang terjadi? Mengapa bisa demikian?"
   ]
  },
  {
   "cell_type": "code",
   "execution_count": null,
   "metadata": {},
   "outputs": [],
   "source": [
    "akan eror, karena variabel bil menggunakan tipe data integer,\n",
    "dimana integer itu hanya untuk bilangan bulat"
   ]
  },
  {
   "cell_type": "markdown",
   "metadata": {},
   "source": [
    "3. Ubah statement pada langkah No 3 menjadi seperti berikut\n",
    "![Gambar pertanyaan 3](images/P1T3.png)\n",
    "Apa keluaran dari program? Mengapa bisa demikian?"
   ]
  },
  {
   "cell_type": "markdown",
   "metadata": {},
   "source": [
    "sama seperti langkah no 3. bil[i], \n",
    "berarti menampilkan indeks ke-i"
   ]
  },
  {
   "cell_type": "markdown",
   "metadata": {},
   "source": [
    "### Percobaan 2: Meminta Inputan Pengguna untuk Mengisi Elemen Array\n",
    "1. Pada percobaan ke-2 akan dilakukan percobaan yang meminta inputan pengguna untuk mengisi elemen array seperti pada flowchart berikut\n",
    "![Gambar Flowchart](images/FCpercobaan2.png)"
   ]
  },
  {
   "cell_type": "markdown",
   "metadata": {},
   "source": [
    "2. Import dan deklarasikan Scanner untuk keperluan input. \n",
    "![Gambar import scanner](images/P2L2.png)"
   ]
  },
  {
   "cell_type": "code",
   "execution_count": 8,
   "metadata": {},
   "outputs": [],
   "source": [
    "import java.util.Scanner;\n",
    "Scanner sc=new Scanner(System.in);"
   ]
  },
  {
   "cell_type": "markdown",
   "metadata": {},
   "source": [
    "3. Buat array bertipe integer dengan nama nilaiUAS, dengan kapasitas 6 elemen.\n",
    "![Gambar deklarasi array](images/P2L3.png)"
   ]
  },
  {
   "cell_type": "code",
   "execution_count": 9,
   "metadata": {},
   "outputs": [],
   "source": [
    "int[] nilaiUAS = new int[6];"
   ]
  },
  {
   "cell_type": "markdown",
   "metadata": {},
   "source": [
    "4. Menggunakan perulangan, buat input untuk mengisi elemen dari array nilaiUAS.\n",
    "![Gambar perulangan input](images/P2L4.png)"
   ]
  },
  {
   "cell_type": "code",
   "execution_count": 10,
   "metadata": {
    "scrolled": true
   },
   "outputs": [
    {
     "name": "stdout",
     "output_type": "stream",
     "text": [
      "masukkan nilai UAS ke-0: 100\n",
      "masukkan nilai UAS ke-1: 100\n",
      "masukkan nilai UAS ke-2: 100\n",
      "masukkan nilai UAS ke-3: 100\n",
      "masukkan nilai UAS ke-4: 100\n",
      "masukkan nilai UAS ke-5: 100\n"
     ]
    }
   ],
   "source": [
    "for(int i=0; i<6; i++){\n",
    "    System.out.print(\"masukkan nilai UAS ke-\"+i+\": \");\n",
    "    nilaiUAS[i]=sc.nextInt();\n",
    "}\n"
   ]
  },
  {
   "cell_type": "markdown",
   "metadata": {},
   "source": [
    "5. Menggunakan perulangan, tampilkan semua isi elemen dari array nilaiUAS.\n",
    "![Gambar perulangan print](images/P2L5.png)"
   ]
  },
  {
   "cell_type": "code",
   "execution_count": 11,
   "metadata": {
    "scrolled": true
   },
   "outputs": [
    {
     "name": "stdout",
     "output_type": "stream",
     "text": [
      "Nilai UAS ke-0 adalah: 100\n",
      "Nilai UAS ke-1 adalah: 100\n",
      "Nilai UAS ke-2 adalah: 100\n",
      "Nilai UAS ke-3 adalah: 100\n",
      "Nilai UAS ke-4 adalah: 100\n",
      "Nilai UAS ke-5 adalah: 100\n"
     ]
    }
   ],
   "source": [
    "for(int i=0; i<6; i++){\n",
    "    System.out.println(\"Nilai UAS ke-\"+i+\" adalah: \"+ nilaiUAS[i]);\n",
    "}\n"
   ]
  },
  {
   "cell_type": "markdown",
   "metadata": {},
   "source": [
    "#### Pertanyaan\n",
    "1. Ubah statement pada langkah No 4 menjadi seperti berikut ini :\n",
    "![Gambar pertanyaan1](images/P2T1.png)\n",
    "Jalankan program, apakah terjadi perubahan? Mengapa demikian?\n"
   ]
  },
  {
   "cell_type": "markdown",
   "metadata": {},
   "source": [
    "karena terdapat nilaiUAS.length, maksudnya adalah \n",
    "panjang ATAU BANYAK dari array nilaiUAS. disini banyaknya array\n",
    "nilaiUAS adalah 6, maka sama saja seperti i<6\n"
   ]
  },
  {
   "cell_type": "markdown",
   "metadata": {},
   "source": [
    "2. Apa kegunaan dari `nilaiUAS.length`? "
   ]
  },
  {
   "cell_type": "code",
   "execution_count": null,
   "metadata": {},
   "outputs": [],
   "source": [
    "untuk mengetahui panjang elemen dari nilaiUAS"
   ]
  },
  {
   "cell_type": "markdown",
   "metadata": {},
   "source": [
    "3. Ubah statement pada langkah No 5 menjadi seperti berikut ini sehingga program hanya menampilkan status mahasiswa yang lulus saja:\n",
    "![Gambar pertanyaan1](images/P2T3.png)\n",
    "Jalankan program dan Jelaskan alur program!"
   ]
  },
  {
   "cell_type": "code",
   "execution_count": 14,
   "metadata": {},
   "outputs": [
    {
     "name": "stdout",
     "output_type": "stream",
     "text": [
      "mahasiswa ke-0 lulus\n",
      "mahasiswa ke-1 lulus\n",
      "mahasiswa ke-2 lulus\n",
      "mahasiswa ke-3 lulus\n",
      "mahasiswa ke-4 lulus\n",
      "mahasiswa ke-5 lulus\n"
     ]
    }
   ],
   "source": [
    "for(int i=0; i<nilaiUAS.length; i++){\n",
    "    if(nilaiUAS[i]>70){\n",
    "        System.out.println(\"mahasiswa ke-\"+i+\" lulus\");\n",
    "    }\n",
    "}\n",
    "\n",
    "//mula\" nilai i=0, jika i lebih dari 70, print mahasiswa ke-i lulus,\n",
    "//lalu i akan bertambah 1. jika tidak, tidak akan diprint, hanya i yang bertambah 1"
   ]
  },
  {
   "cell_type": "markdown",
   "metadata": {},
   "source": [
    "### Percobaan 3: Melakukan Operasi Aritmatika terhadap Elemen Array\n",
    "Pada praktikum ini, akan dilakukan percobaan untuk menjumlahkan Array. Program akan menerima input sebanyak 10 nilai mahasiswa. Kemudian program akan menampilkan nilai rata-rata nilai dari 10 Mahasiswa. Seperti flowchart berikut\n",
    "![Gambar flowchart](images/FCpercobaan3.png)\n",
    "\n",
    "1.Import dan deklarasikan Scanner untuk keperluan input. \n",
    "![Gambar deklarasi scanner](images/P3L1.png)"
   ]
  },
  {
   "cell_type": "code",
   "execution_count": 2,
   "metadata": {},
   "outputs": [],
   "source": [
    "import java.util.Scanner;\n",
    "Scanner sc = new Scanner(System.in);"
   ]
  },
  {
   "cell_type": "markdown",
   "metadata": {},
   "source": [
    "2. Buat array nilaiMHS bertipe integer dengan kapasitas 10. Kemudian deklarasikan variable total dan rata seperti gambar berikut ini\n",
    "![Gambar deklarasi variabel](images/P3L2.png)\n"
   ]
  },
  {
   "cell_type": "code",
   "execution_count": 3,
   "metadata": {},
   "outputs": [],
   "source": [
    "int nilaiMHS[] =new int[10];\n",
    "double total;\n",
    "double rata;"
   ]
  },
  {
   "cell_type": "markdown",
   "metadata": {},
   "source": [
    "3. Menggunakan perulangan, buat input untuk mengisi array nilaiMHS\n",
    "![Gambar perulangan input](images/P3L3.png)\n"
   ]
  },
  {
   "cell_type": "code",
   "execution_count": 4,
   "metadata": {},
   "outputs": [
    {
     "name": "stdout",
     "output_type": "stream",
     "text": [
      "masukkan nilai mahasiswa ke-1:100\n",
      "masukkan nilai mahasiswa ke-2:100\n",
      "masukkan nilai mahasiswa ke-3:100\n",
      "masukkan nilai mahasiswa ke-4:100\n",
      "masukkan nilai mahasiswa ke-5:100\n",
      "masukkan nilai mahasiswa ke-6:100\n",
      "masukkan nilai mahasiswa ke-7:100\n",
      "masukkan nilai mahasiswa ke-8:100\n",
      "masukkan nilai mahasiswa ke-9:100\n",
      "masukkan nilai mahasiswa ke-10:100\n"
     ]
    }
   ],
   "source": [
    "for(int i=0; i<nilaiMHS.length; i++){\n",
    "    System.out.print(\"masukkan nilai mahasiswa ke-\"+(i+1)+\":\");\n",
    "    nilaiMHS[i]=sc.nextInt();\n",
    "}"
   ]
  },
  {
   "cell_type": "markdown",
   "metadata": {},
   "source": [
    "4. Menggunakan perulangan untuk menghitung jumlah keseluruhan nilai.\n",
    "![Gambar perulangan jumlah](images/P3L4.png)\n"
   ]
  },
  {
   "cell_type": "code",
   "execution_count": 5,
   "metadata": {},
   "outputs": [],
   "source": [
    "for(int i=0; i<nilaiMHS.length; i++){\n",
    "    total+=nilaiMHS[i];\n",
    "    //System.out.println(total);\n",
    "}"
   ]
  },
  {
   "cell_type": "markdown",
   "metadata": {},
   "source": [
    "5. Kemudian hitung nilai rata-rata dengan cara nilai total dibagi jumlah elemen dari array nilaiMHS\\\n",
    "![Gambar hitung rata2](images/P3L5.png)\n"
   ]
  },
  {
   "cell_type": "code",
   "execution_count": 6,
   "metadata": {},
   "outputs": [
    {
     "name": "stdout",
     "output_type": "stream",
     "text": [
      "rata-rata nilai mahasiswa adalah 100.0\n"
     ]
    }
   ],
   "source": [
    "rata= total/nilaiMHS.length;\n",
    "System.out.println(\"rata-rata nilai mahasiswa adalah \"+rata);"
   ]
  },
  {
   "cell_type": "markdown",
   "metadata": {},
   "source": [
    "#### Pertanyaan \n",
    "1. Pada Percobaan 3 langkah ke-5. Mengapa perhitungan rata berada diluar perulangan?"
   ]
  },
  {
   "cell_type": "markdown",
   "metadata": {},
   "source": [
    "jika ditaruh di dalam perulangan, maka perhitungannya akan dilakukan\n",
    "sebanyak panjang dari array nilaiMHS (10). dan itu kurang efektif"
   ]
  },
  {
   "cell_type": "markdown",
   "metadata": {},
   "source": [
    "2. Modifikasi program pada percobaan 3 sehingga bisa mengeluarkan output  seperti gambar berikut ini!\n",
    "syarat lulus nilai >70\n",
    "![Gambar pertanyaan 2](images/P3T2.png)"
   ]
  },
  {
   "cell_type": "code",
   "execution_count": 23,
   "metadata": {},
   "outputs": [
    {
     "name": "stdout",
     "output_type": "stream",
     "text": [
      "masukkan nilai mahasiswa ke-1:90\n",
      "masukkan nilai mahasiswa ke-2:80\n",
      "masukkan nilai mahasiswa ke-3:100\n",
      "masukkan nilai mahasiswa ke-4:70\n",
      "masukkan nilai mahasiswa ke-5:60\n",
      "masukkan nilai mahasiswa ke-6:40\n",
      "masukkan nilai mahasiswa ke-7:50\n",
      "masukkan nilai mahasiswa ke-8:20\n",
      "masukkan nilai mahasiswa ke-9:10\n",
      "masukkan nilai mahasiswa ke-10:30\n",
      "rata-rata nilai mahasiswa yang lulus adalah 90.0\n",
      "rata-rata nilai mahasiswa yang tidak lulus adalah 40.0\n"
     ]
    }
   ],
   "source": [
    "import java.util.Scanner;\n",
    "Scanner sc = new Scanner(System.in);\n",
    "int nilaiMHS[] =new int[10];\n",
    "int[] lulus =new int[10];\n",
    "int[] gagal =new int[10];\n",
    "int l=0, g=0;\n",
    "double rata, total;\n",
    "for(int i=0; i<nilaiMHS.length; i++){\n",
    "    System.out.print(\"masukkan nilai mahasiswa ke-\"+(i+1)+\":\");\n",
    "    nilaiMHS[i]=sc.nextInt();\n",
    "    if(nilaiMHS[i]>70){\n",
    "        lulus[l]=nilaiMHS[i];\n",
    "        l++;\n",
    "    } else{\n",
    "        gagal[g]=nilaiMHS[i];\n",
    "        g++;\n",
    "    }\n",
    "}\n",
    "\n",
    "for(int i=0; i<10; i++){\n",
    "    total+=lulus[i];\n",
    "}\n",
    "\n",
    "rata= total/l;\n",
    "System.out.println(\"rata-rata nilai mahasiswa yang lulus adalah \"+rata);\n",
    "total=0;\n",
    "\n",
    "for(int i=0; i<10; i++){\n",
    "    total+=gagal[i];\n",
    "}\n",
    "rata= total/g;\n",
    "System.out.println(\"rata-rata nilai mahasiswa yang tidak lulus adalah \"+rata);"
   ]
  },
  {
   "cell_type": "markdown",
   "metadata": {},
   "source": [
    "### Percobaan 4: Pencarian menggunakan Array\n",
    "Pada praktikum ini, akan dilakukan percobaan untuk mencari lokasi/indeks sebuah angka dalam array. Sesuai dengan flowchart di bawah ini:\n",
    "![Gambar flowchart searching](images/FCpercobaan4.png) "
   ]
  },
  {
   "cell_type": "markdown",
   "metadata": {},
   "source": [
    "1. Buat array arr[] bertipe integer dengan kapasitas 6 dan isi dengan nilai 6, 4, 1, 9, 7, 3, 2 dan 8. Kemudian deklarasikan variabel integer `key` untuk kata kunci pencarian dan variabel `hasil` untuk hasil indeks pencarian. Deklarasi dan inisialisasi seperti gambar berikut ini\n",
    "![Gambar deklarasi variabel](images/P4L2.png)\n"
   ]
  },
  {
   "cell_type": "code",
   "execution_count": 36,
   "metadata": {},
   "outputs": [],
   "source": [
    "int arr[]={6,4,1,9,7,3,2,8};\n",
    "int key =3;\n",
    "int hasil= -1;"
   ]
  },
  {
   "cell_type": "markdown",
   "metadata": {},
   "source": [
    "2. Menggunakan perulangan, lakukan pencarian untuk mendapatkan nilai array yang sesuai dengan key. Bila ada yang sesuai, simpan indeksnya sebagai hasil pencarian\n",
    "![Gambar perulangan search](images/p4L3.png)\n"
   ]
  },
  {
   "cell_type": "code",
   "execution_count": 37,
   "metadata": {},
   "outputs": [],
   "source": [
    "for(int i=0; i<arr.length; i++){\n",
    "    if(key==arr[i]){\n",
    "        hasil=i;\n",
    "        break;\n",
    "    }\n",
    "}\n"
   ]
  },
  {
   "cell_type": "markdown",
   "metadata": {},
   "source": [
    "3. Tampilkan hasil pencarian dengan kode berikut.\n",
    "![Gambar perulangan jumlah](images/P4L4.png)\n"
   ]
  },
  {
   "cell_type": "code",
   "execution_count": 38,
   "metadata": {},
   "outputs": [
    {
     "name": "stdout",
     "output_type": "stream",
     "text": [
      "key ada di array ke-5\n"
     ]
    }
   ],
   "source": [
    "System.out.println(\"key ada di array ke-\"+hasil);"
   ]
  },
  {
   "cell_type": "markdown",
   "metadata": {},
   "source": [
    "#### Pertanyaan \n",
    "1. Pada Percobaan 4 langkah ke-2. Apa kegunaan dari statement `break`?"
   ]
  },
  {
   "cell_type": "markdown",
   "metadata": {},
   "source": [
    "jika key bernilai sama dengan variabel arr ke-i, akan dilakukan break\n",
    "yang berfungsi untuk keluar dari perulangan\n"
   ]
  },
  {
   "cell_type": "markdown",
   "metadata": {},
   "source": [
    "2. Modifikasi program pada percobaan 4 sehingga key yang dicari adalah angka 5. Kemudian jalankan program, amati hasilnya! Jelaskan penyebab dari hasil tersebut! "
   ]
  },
  {
   "cell_type": "code",
   "execution_count": 40,
   "metadata": {},
   "outputs": [
    {
     "name": "stdout",
     "output_type": "stream",
     "text": [
      "key ada di array ke--1\n"
     ]
    }
   ],
   "source": [
    "int arr[]={6,4,1,9,7,3,2,8};\n",
    "int key =5;\n",
    "int hasil= -1;\n",
    "\n",
    "for(int i=0; i<arr.length; i++){\n",
    "    if(key==arr[i]){\n",
    "        hasil=i;\n",
    "        break;\n",
    "    }\n",
    "}\n",
    "System.out.println(\"key ada di array ke-\"+hasil);\n",
    "//variabel hasil tidak akan berubah, \n",
    "//dan akan diprint \"key ada di array ke--1\"\n",
    "//penyebabnya adalah karena tidak ditemukannya angka 5\n",
    "//pada arr"
   ]
  },
  {
   "cell_type": "markdown",
   "metadata": {},
   "source": [
    "### Percobaan 5: Pengurutan bilangan menggunakan Array\n",
    "Pada praktikum ini, akan dilakukan percobaan untuk mengurutkan angka dalam array. Sesuai dengan flowchart di bawah ini:\n",
    "![Gambar flowchart sorting](images/FCpercobaan5.png)\n",
    "1.Buat array arr[] bertipe integer dengan kapasitas 8 dan isi dengan nilai 16, 4, 10, 90, 27, 3, 12 dan 28. Kemudian deklarasikan variabel integer `temp` untuk media penukaran nilai pada variabel. Deklarasi dan inisialisasi seperti gambar berikut ini\n",
    "![Gambar deklarasi dan inisialisasi](images/P5L1.png)"
   ]
  },
  {
   "cell_type": "code",
   "execution_count": 41,
   "metadata": {},
   "outputs": [],
   "source": [
    "int[] arr = {16,4,10,90,27,3,12,28};\n",
    "int temp = 0;"
   ]
  },
  {
   "cell_type": "markdown",
   "metadata": {},
   "source": [
    "2. Menggunakan perulangan, lakukan pengurutan bilangan dengan menukar posisi indeks tersebut dengan indeks berikutnya. Perulangan dilakukan untuk menukar posisi berulang kali. \n",
    "![Gambar sorting](images/P5L2.png)"
   ]
  },
  {
   "cell_type": "code",
   "execution_count": 42,
   "metadata": {},
   "outputs": [],
   "source": [
    "for(int i =0; i<arr.length; i++){\n",
    "    for(int j=1; j<(arr.length-i);j++){\n",
    "        if(arr[j-1]>arr[j]){\n",
    "            temp=arr[j-1];\n",
    "            arr[j-1]=arr[j];\n",
    "            arr[j]=temp;\n",
    "        }\n",
    "    }\n",
    "}\n"
   ]
  },
  {
   "cell_type": "markdown",
   "metadata": {},
   "source": [
    "3. Tampilkan hasil pengurutan dengan menggunakan perulangan\n",
    "![Gambar print](images/P5L3.png)"
   ]
  },
  {
   "cell_type": "code",
   "execution_count": 43,
   "metadata": {},
   "outputs": [
    {
     "name": "stdout",
     "output_type": "stream",
     "text": [
      "hasil pengurutan: \n",
      "3\n",
      "4\n",
      "10\n",
      "12\n",
      "16\n",
      "27\n",
      "28\n",
      "90\n"
     ]
    }
   ],
   "source": [
    "System.out.println(\"hasil pengurutan: \");\n",
    "for(int i=0; i<arr.length; i++)\n",
    "    System.out.println(arr[i]);"
   ]
  },
  {
   "cell_type": "markdown",
   "metadata": {},
   "source": [
    "## Tugas\n",
    "### Soal 1\n",
    "Buatlah program yang **sesuai** dengan alur _flowchart_ di bawah ini\n",
    "![Soal 1](images/soal1.png)\n",
    "\n",
    "Flowchart diatas menggambarkan alur program yang membaca 10 masukan pengguna berupa integer dan menyimpannya. Kemudian angka ganjil dan genap disimpan kembali ke dalam variabel lain yang terpisah"
   ]
  },
  {
   "cell_type": "code",
   "execution_count": 8,
   "metadata": {},
   "outputs": [
    {
     "name": "stdout",
     "output_type": "stream",
     "text": [
      "11\n",
      "10\n",
      "9\n",
      "8\n",
      "7\n",
      "6\n",
      "5\n",
      "4\n",
      "3\n",
      "2\n"
     ]
    }
   ],
   "source": [
    "import java.util.Scanner;\n",
    "Scanner sc= new Scanner(System.in);\n",
    "int checkNum[] = new int[10];\n",
    "int evenNum[] = new int[10];\n",
    "int oddNum[] = new int[10];\n",
    "int cEven, cOdd=0;\n",
    "\n",
    "for(int i=0;i<checkNum.length; i++){\n",
    "    checkNum[i]=sc.nextInt();\n",
    "}\n",
    "\n",
    "for(int j=0;j<checkNum.length;j++){\n",
    "    if(checkNum[j]%2==0){\n",
    "        evenNum[cEven]=checkNum[j];\n",
    "        cEven++;\n",
    "    } else{\n",
    "        oddNum[cOdd]=checkNum[j];\n",
    "        cOdd++;\n",
    "    }\n",
    "}"
   ]
  },
  {
   "cell_type": "markdown",
   "metadata": {},
   "source": [
    "### Soal 2\n",
    "Buatlah program yang terdapat array dengan jumlah elemen 5, buatlah input untuk mengisi elemen array tersebut, kemudian tampilkan isi array tersebut dengan urutan terbalik. Seperti ilustrasi gambar dibawah ini.\n",
    "![Soal 2](images/T2.png)"
   ]
  },
  {
   "cell_type": "code",
   "execution_count": 14,
   "metadata": {},
   "outputs": [
    {
     "name": "stdout",
     "output_type": "stream",
     "text": [
      "5\n",
      "2\n",
      "7\n",
      "9\n",
      "6\n",
      "kebalikannya:\n",
      "6 9 7 2 5 "
     ]
    }
   ],
   "source": [
    "import java.util.Scanner;\n",
    "Scanner sc= new Scanner(System.in);\n",
    "int a[]= new int[5];\n",
    "int temp;\n",
    "for(int i=0;i<a.length;i++){\n",
    "    a[i]=sc.nextInt();\n",
    "}\n",
    "temp=a[0];\n",
    "a[0]=a[4];\n",
    "a[4]=temp;\n",
    "\n",
    "temp=a[1];\n",
    "a[1]=a[3];\n",
    "a[3]=temp;\n",
    "System.out.println(\"kebalikannya:\");\n",
    "\n",
    "for(int i=0;i<a.length;i++){\n",
    "    System.out.printf(\"%d \",a[i]);\n",
    "}"
   ]
  },
  {
   "cell_type": "markdown",
   "metadata": {},
   "source": [
    "### Soal 3\n",
    "Buatlah program yang menerima input jumlah elemen array, inputkan isi arraynya, kemudian tampilkan bilangan terbesar dari isi elemen arraynya. Contoh hasil program:\n",
    "![Soal 3](images/t3.png)"
   ]
  },
  {
   "cell_type": "code",
   "execution_count": 2,
   "metadata": {},
   "outputs": [
    {
     "name": "stdout",
     "output_type": "stream",
     "text": [
      "masukkan isi array: 5\n",
      "masukkan elemen array ke-0: 25\n",
      "masukkan elemen array ke-1: 78\n",
      "masukkan elemen array ke-2: 12\n",
      "masukkan elemen array ke-3: 63\n",
      "masukkan elemen array ke-4: 99\n",
      "bilangan terbesar adalah 99"
     ]
    },
    {
     "data": {
      "text/plain": [
       "java.io.PrintStream@5dedcec5"
      ]
     },
     "execution_count": 2,
     "metadata": {},
     "output_type": "execute_result"
    }
   ],
   "source": [
    "import java.util.Scanner;\n",
    "Scanner sc= new Scanner(System.in);\n",
    "System.out.print(\"masukkan isi array: \");\n",
    "int array= sc.nextInt();\n",
    "int Elarray[] = new int[array];\n",
    "int terbesar=0;\n",
    "\n",
    "for(int i=0;i<Elarray.length;i++){\n",
    "    System.out.printf(\"masukkan elemen array ke-%d: \",i);\n",
    "    Elarray[i]=sc.nextInt();\n",
    "}\n",
    "\n",
    "for(int j=1; j<Elarray.length; j++){\n",
    "    if(Elarray[j]>Elarray[terbesar]){\n",
    "        terbesar=j;\n",
    "    }\n",
    "}\n",
    "System.out.printf(\"bilangan terbesar adalah %d\",Elarray[terbesar]);"
   ]
  },
  {
   "cell_type": "markdown",
   "metadata": {},
   "source": [
    "#### "
   ]
  }
 ],
 "metadata": {
  "kernelspec": {
   "display_name": "Java",
   "language": "java",
   "name": "java"
  },
  "language_info": {
   "codemirror_mode": "java",
   "file_extension": ".jshell",
   "mimetype": "text/x-java-source",
   "name": "Java",
   "pygments_lexer": "java",
   "version": "17.0.1+12-LTS-39"
  }
 },
 "nbformat": 4,
 "nbformat_minor": 1
}
