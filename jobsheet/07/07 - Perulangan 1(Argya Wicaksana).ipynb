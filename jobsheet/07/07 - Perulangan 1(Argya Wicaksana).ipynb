{
 "cells": [
  {
   "cell_type": "markdown",
   "metadata": {},
   "source": [
    "## JOBSHEET 7\n",
    "\n",
    "## PERULANGAN 1\n",
    "\n",
    "### Tujuan\n",
    "\n",
    "Mahasiswa mampu menyelesaikan permasalahan/studi kasus menggunakan sintaks perulangan 1 dan mengimplemantasikannya dalam bahasa pemrogaman java.\n",
    "\n",
    "### Alat dan Bahan\n",
    "+ PC/laptop\n",
    "+ Browser(chrome, firefox, safari)\n",
    "+ Koneksi internet\n",
    "\n",
    "### Praktikum\n",
    "\n",
    "#### Percobaan 1 : Penggunaan for, while dan do-while\n",
    "\n",
    "#### Waktu percobaan : 40 menit\n",
    "\n",
    "1. Perhatikan flowchart perulangan for dibawah ini!\n",
    "\n",
    "    <p align=\"left\">\n",
    "    <img width=\"197\" height=\"259\" src=\"images/flowchartFaktorial.png\">\n",
    "    </p>\n",
    "    \n",
    "\n",
    "> Flowchart diatas digunakan untuk menghitung nilai faktorial, selanjutnya kita akan membuat programnya berdasarkan\n",
    "> flowchart di atas!\n",
    "\n",
    "2. Tambahkan library Scanner, deklarasi Scanner, dan buat variabel angka untuk menampung data yang diinput melalui keyboard\n",
    "\n"
   ]
  },
  {
   "cell_type": "code",
   "execution_count": 19,
   "metadata": {
    "pycharm": {
     "name": "#%%\n"
    }
   },
   "outputs": [],
   "source": [
    "import java.util.Scanner;\n",
    "Scanner input = new Scanner(System.in);\n",
    "int angka;"
   ]
  },
  {
   "cell_type": "markdown",
   "metadata": {},
   "source": [
    "3. Buatlah deklarasi dan inisialisasi variabel faktorial sesuai dengan flowchart diatas"
   ]
  },
  {
   "cell_type": "code",
   "execution_count": 27,
   "metadata": {},
   "outputs": [],
   "source": [
    "int faktorial = 1;\n"
   ]
  },
  {
   "cell_type": "markdown",
   "metadata": {},
   "source": [
    "4. Tambahkan struktur perulangan untuk menghitung hasil faktorial sebuah nilai yang diinputkan menggunakan for\n",
    "    \n",
    "    <p align=\"left\">\n",
    "    <img width=\"696\" height=\"124\" src=\"images/for.jpg\" align=\"left\">\n",
    "    </p>"
   ]
  },
  {
   "cell_type": "code",
   "execution_count": 28,
   "metadata": {},
   "outputs": [
    {
     "name": "stdout",
     "output_type": "stream",
     "text": [
      "=====PROGRAM MENGHITUNG NILAI FAKTORIAL DENGAN FOR=====\n",
      "Masukkan Bilangan: 6\n",
      "Nilai faktorial bilangan tersebut adalah 720"
     ]
    }
   ],
   "source": [
    "System.out.println(\"=====PROGRAM MENGHITUNG NILAI FAKTORIAL DENGAN FOR=====\");\n",
    "System.out.print(\"Masukkan Bilangan: \");\n",
    "angka= input.nextInt();\n",
    "for(int i=1; i<=angka; i++)\n",
    "    faktorial*=i;\n",
    "System.out.print(\"Nilai faktorial bilangan tersebut adalah \"+faktorial);"
   ]
  },
  {
   "cell_type": "markdown",
   "metadata": {},
   "source": [
    "5. Ubah nilai variabel faktorial seperti semula. Kemudian gunakan struktur perulangan while untuk menghitung hasil faktorial sebuah nilai yang diinputkan\n",
    "    \n",
    "    <p align=\"left\">\n",
    "    <img width=\"696\" height=\"124\" src=\"images/while.jpg\" align=\"left\">\n",
    "    </p>"
   ]
  },
  {
   "cell_type": "code",
   "execution_count": 29,
   "metadata": {
    "scrolled": true
   },
   "outputs": [
    {
     "name": "stdout",
     "output_type": "stream",
     "text": [
      "=====PROGRAM MENGHITUNG NILAI FAKTORIAL DENGAN WHILE=====\n",
      "masukkan bilangan: 6\n",
      "Nilai faktorial angka tersebut adalah 720"
     ]
    }
   ],
   "source": [
    "faktorial=1;\n",
    "System.out.println(\"=====PROGRAM MENGHITUNG NILAI FAKTORIAL DENGAN WHILE=====\");\n",
    "System.out.print(\"masukkan bilangan: \");\n",
    "angka= input.nextInt();\n",
    "int i=1;\n",
    "while(i<=angka){\n",
    "    faktorial*=i;\n",
    "    i++;\n",
    "}\n",
    "System.out.print(\"Nilai faktorial angka tersebut adalah \"+faktorial);"
   ]
  },
  {
   "cell_type": "markdown",
   "metadata": {},
   "source": [
    "6. Kembalikan lagi nilai variabel faktorial seperti semula. Gunakan struktur perulangan do-while untuk menghitung hasil faktorial sebuah nilai yang diinputkan\n",
    "    \n",
    "    <p align=\"left\">\n",
    "    <img width=\"696\" height=\"124\" src=\"images/dowhile.jpg\" align=\"left\">\n",
    "    </p>"
   ]
  },
  {
   "cell_type": "code",
   "execution_count": 31,
   "metadata": {},
   "outputs": [
    {
     "name": "stdout",
     "output_type": "stream",
     "text": [
      "=====PROGRAM MENGHITUNG NILAI FAKTORIAL DENGAN DO-WHILE=====\n",
      "masukkan bilangan: 6\n",
      "Nilai faktorial bilangan tersebut adalah: 720"
     ]
    }
   ],
   "source": [
    "faktorial=1;\n",
    "System.out.println(\"=====PROGRAM MENGHITUNG NILAI FAKTORIAL DENGAN DO-WHILE=====\");\n",
    "System.out.print(\"masukkan bilangan: \");\n",
    "angka= input.nextInt();\n",
    "int i=1;\n",
    "do{\n",
    "    faktorial*=i;\n",
    "    i++;\n",
    "}\n",
    "while(i<=angka);\n",
    "System.out.print(\"Nilai faktorial bilangan tersebut adalah: \"+faktorial);"
   ]
  },
  {
   "cell_type": "markdown",
   "metadata": {},
   "source": [
    "##### Pertanyaan\n",
    "1. Pada program diatas, apakah kegunaan baris berikut?\n",
    "<p align=\"left\">\n",
    "    <img src=\"images/hitungFaktorial.jpg\" align=\"left\">\n",
    "    </p>"
   ]
  },
  {
   "cell_type": "markdown",
   "metadata": {},
   "source": [
    "program tersebut sama saja dengan faktorial= faktorial(lama) dikali dengan variabel i\n",
    "yg berfungsi untuk mengalikan angka. misal 1*2=2 variabel faktorial akan menyimpan hasil 1*2 dan setelah itu akan dikalikan dengan bilangan selanjutnya, yaitu 3."
   ]
  },
  {
   "cell_type": "markdown",
   "metadata": {},
   "source": [
    "2. Modifikasi program diatas dibagian struktur pemilihannya sehingga hasilnya menjadi seperti di bawah ini:\n",
    "<p align=\"left\">\n",
    "    <img src=\"images/modifP1.jpg\" align=\"left\">\n",
    "    </p>"
   ]
  },
  {
   "cell_type": "code",
   "execution_count": 1,
   "metadata": {},
   "outputs": [
    {
     "name": "stdout",
     "output_type": "stream",
     "text": [
      "=====PROGRAM MENGHITUNG NILAI FAKTORIAL=====\n",
      "masukkan bilangan: 6\n",
      "6 faktorial = 1x2x3x4x5x6 = 720"
     ]
    }
   ],
   "source": [
    "int faktorial=1, angka;\n",
    "Scanner input = new Scanner(System.in);\n",
    "System.out.println(\"=====PROGRAM MENGHITUNG NILAI FAKTORIAL=====\");\n",
    "System.out.print(\"masukkan bilangan: \");\n",
    "angka= input.nextInt();\n",
    "System.out.printf(\"%d faktorial = \",angka);\n",
    "System.out.print(1);\n",
    "\n",
    "//menggunakan while\n",
    "//int i=1;\n",
    "/*while(i<angka){\n",
    "    i++;\n",
    "    System.out.printf(\"x%d\",i);\n",
    "    faktorial*=i;\n",
    "}*/\n",
    "\n",
    "//menggunakan for\n",
    "for(int i=2; i<=angka; i++){\n",
    "    System.out.printf(\"x%d\",i);\n",
    "    faktorial*=i;\n",
    "}\n",
    "System.out.print(\" = \"+faktorial);"
   ]
  },
  {
   "cell_type": "markdown",
   "metadata": {},
   "source": [
    "#### Percobaan 2 : Keluar dari perulangan menggunakan break\n",
    "\n",
    "#### Waktu percobaan : 40 menit"
   ]
  },
  {
   "cell_type": "markdown",
   "metadata": {},
   "source": [
    "1. Buatlah perulangan dengan menggunakan for yang memanfaatkan keyword break\n",
    "<p align=\"left\">\n",
    "    <img width=\"696\" height=\"124\" src=\"images/for2.jpg\" align=\"left\">\n",
    "    </p>"
   ]
  },
  {
   "cell_type": "code",
   "execution_count": 3,
   "metadata": {},
   "outputs": [
    {
     "name": "stdout",
     "output_type": "stream",
     "text": [
      "===PROGRAM FOR LOOP DENGAN BREAK===\n",
      "Masukkan bilangan: 25\n",
      "Masukkan bilangan: 35\n",
      "Jumlah angka-angka yang telah dimasukkan: 60\n"
     ]
    }
   ],
   "source": [
    "Scanner input= new Scanner(System.in);\n",
    "int angka, total;\n",
    "System.out.println(\"===PROGRAM FOR LOOP DENGAN BREAK===\");\n",
    "for(total=0;true;){\n",
    "    System.out.print(\"Masukkan bilangan: \");\n",
    "    angka=input.nextInt();\n",
    "    total+=angka;\n",
    "    if(total>50) break;\n",
    "}\n",
    "System.out.println(\"Jumlah angka-angka yang telah dimasukkan: \"+total);"
   ]
  },
  {
   "cell_type": "markdown",
   "metadata": {},
   "source": [
    "2. Buat perulangan yang sama dengan struktur perulangan while\n",
    "<p align=\"left\">\n",
    "    <img width=\"696\" height=\"124\" src=\"images/while2.jpg\" align=\"left\">\n",
    "    </p>"
   ]
  },
  {
   "cell_type": "code",
   "execution_count": 4,
   "metadata": {},
   "outputs": [
    {
     "name": "stdout",
     "output_type": "stream",
     "text": [
      "===PROGRAM WHILE LOOP DENGAN BREAK===\n",
      "masukkan bilangan: 25\n",
      "masukkan bilangan: 35\n",
      "Jumlah angka-angka yang telah dimasukkan: 60\n"
     ]
    }
   ],
   "source": [
    "int angka,total;\n",
    "System.out.println(\"===PROGRAM WHILE LOOP DENGAN BREAK===\");\n",
    "total=0;\n",
    "while(true){\n",
    "    System.out.print(\"masukkan bilangan: \");\n",
    "    angka= input.nextInt();\n",
    "    total+=angka;\n",
    "    if(total>50)\n",
    "    break;\n",
    "}\n",
    "System.out.println(\"Jumlah angka-angka yang telah dimasukkan: \"+total);"
   ]
  },
  {
   "cell_type": "markdown",
   "metadata": {},
   "source": [
    "3. Tuliskan perulangan diatas dalam struktur do-while\n",
    "    <p align=\"left\">\n",
    "    <img width=\"696\" height=\"124\" src=\"images/dowhile2.jpg\" align=\"left\">\n",
    "    </p>"
   ]
  },
  {
   "cell_type": "code",
   "execution_count": 5,
   "metadata": {},
   "outputs": [
    {
     "name": "stdout",
     "output_type": "stream",
     "text": [
      "===PROGRAM DO-WHILE LOOP DENGAN BREAK===\n",
      "masukkan bilangan: 25\n",
      "masukkan bilangan: 35\n",
      "jumlah angka-angka yang telah dimasukkan: 60\n"
     ]
    }
   ],
   "source": [
    "int angka, total;\n",
    "System.out.println(\"===PROGRAM DO-WHILE LOOP DENGAN BREAK===\");\n",
    "total=0;\n",
    "do{\n",
    "    System.out.print(\"masukkan bilangan: \");\n",
    "    angka=input.nextInt();\n",
    "    total+=angka;\n",
    "    if(total>50) break;\n",
    "} while(true);\n",
    "System.out.println(\"jumlah angka-angka yang telah dimasukkan: \"+total);"
   ]
  },
  {
   "cell_type": "markdown",
   "metadata": {},
   "source": [
    "##### Pertanyaan\n",
    "1. Jelaskan fungsi kode program yang telah dibuat pada percobaan diatas!"
   ]
  },
  {
   "cell_type": "markdown",
   "metadata": {},
   "source": [
    "break disini berfungsi untuk memaksa program mengakihir suatu perintah atau eksekusi  dalam statement\n"
   ]
  },
  {
   "cell_type": "markdown",
   "metadata": {},
   "source": [
    "2. Jelaskan fungsi kode berikut!\n",
    "    <p align=\"left\">\n",
    "    <img src=\"images/forPertanyaan2.jpg\" align=\"left\">\n",
    "    </p>\n"
   ]
  },
  {
   "cell_type": "markdown",
   "metadata": {},
   "source": [
    "variabrl total diisi dengan 0, dan di dalam program for tersebut akan loop dikarenakan terdapat true"
   ]
  },
  {
   "cell_type": "markdown",
   "metadata": {},
   "source": [
    "#### Percobaan 3 : Keluar dari step perulangan menggunakan continue\n",
    "\n",
    "#### Waktu percobaan : 40 menit\n",
    "\n",
    "1. Buat program looping menggunakan struktur perulangan for seperti di bawah ini: \n",
    "<p align=\"left\">\n",
    "    <img src=\"images/forContinue.jpg\" align=\"left\">\n",
    "    </p>\n"
   ]
  },
  {
   "cell_type": "code",
   "execution_count": 6,
   "metadata": {},
   "outputs": [
    {
     "name": "stdout",
     "output_type": "stream",
     "text": [
      "===PROGRAM FOR LOOP DENGAN CONTINUE===\n",
      "masukkan bilangan: 25\n",
      "masukkan bilangan: 35\n",
      "masukkan bilangan: 45\n",
      "masukkan bilangan: 55\n",
      "masukkan bilangan: 60\n",
      "jumlah angka-angka yang kurang dari 50: 105\n",
      "rata-rata angka yang kurang dari 50: 35.0\n"
     ]
    }
   ],
   "source": [
    "Scanner input= new Scanner(System.in);\n",
    "int angka, total, count;\n",
    "double avg;\n",
    "count=0;\n",
    "System.out.println(\"===PROGRAM FOR LOOP DENGAN CONTINUE===\");\n",
    "for(int i=0;i<5;i++){\n",
    "    System.out.print(\"masukkan bilangan: \");\n",
    "    angka=input.nextInt();\n",
    "    if(angka>=50) continue;\n",
    "    total+=angka;\n",
    "    count++;\n",
    "}\n",
    "System.out.println(\"jumlah angka-angka yang kurang dari 50: \"+total);\n",
    "avg=(double)total/count;\n",
    "System.out.println(\"rata-rata angka yang kurang dari 50: \"+avg);"
   ]
  },
  {
   "cell_type": "markdown",
   "metadata": {},
   "source": [
    "5. Jalankan program. Amati apa yang terjadi!"
   ]
  },
  {
   "cell_type": "markdown",
   "metadata": {},
   "source": [
    "##### Pertanyaan\n",
    "1. Jelaskan Perbedaan dari percobaan 2 dan percobaan 3"
   ]
  },
  {
   "cell_type": "markdown",
   "metadata": {},
   "source": [
    "-pada percobaan 2, program menggunakan break yang berfungsi untuk memaksa program mengakhiri suatu perintah atau eksekusi di dalam sebuah statement.\n",
    "-pada percobaan 3, program menggunakan continue yang bukan untuk menghentikan program, tetapi hanya melewati program saja. misal pada percobaan 3 saya memasukkan angka yang lebih dari 50, program akan melewatinya saja, dan tidak akan dijumlah dengan variabel total."
   ]
  },
  {
   "cell_type": "markdown",
   "metadata": {},
   "source": [
    "2. Jelaskan apa fungsi perintah kode program dibawah ini?\n",
    "<p align=\"left\">\n",
    "    <img width=\"352\" height=\"79\" src=\"images/continuePertanyaan.jpg\" align=\"left\">\n",
    "    </p>"
   ]
  },
  {
   "cell_type": "markdown",
   "metadata": {},
   "source": [
    "jika variabel angka lebih dari atau sama dengan 50, maka lewati atau skip program tersebut. variabel angka\n",
    "yang lebih dari 50 tidak akan ditambahkan dengan variabel total"
   ]
  },
  {
   "cell_type": "markdown",
   "metadata": {},
   "source": [
    "### Tugas\n",
    "\n",
    "#### Waktu pengerjaan Tugas: 140 menit\n",
    "\n",
    "1. Buatlah program yang meminta masukan user sebuah bilangan bulat N (N > 0). Program kemudian menampilkan penjumlahan N bilangan genap positif pertama (bilangan genap ≥ 0).\n",
    "Contoh: \n",
    "    •\tJika user memasukkan N = 10, program akan menghitung banyaknya jumlah bilangan positive di dalam range bilangan 1-10   kemudian menampilkan penjumlahan bilangan positive bilangan bilangan diantara 1-10 yaitu : \n",
    "        0 + 2 + 4 + 6 + 10 = 30. \n",
    "        Setelah itu program akan menampilkan rata-rata dari bilangan positive yang telah dijumlahkan tadi.\n",
    "    •\tContoh output program dan flowchart\n",
    "<br/><img width=\"303\" height=\"529\" src=\"images/hasilTugasFc.jpg\" align=\"left\"><br/>\n",
    "  \n",
    "\n",
    "<br/><img width=\"303\" height=\"529\" src=\"images/fcTugasJS7.png\" align=\"left\">\n"
   ]
  },
  {
   "cell_type": "code",
   "execution_count": 5,
   "metadata": {},
   "outputs": [
    {
     "name": "stdout",
     "output_type": "stream",
     "text": [
      "Masukkan angka: 10\n",
      "Banyaknya bilangan genap adalah 5\n",
      "Angka genap dalam range tersebut adalah 2, 4, 6, 8, 10, \n",
      "Hasil penjumlahan bilangan genap adalah 30\n",
      "Rata-rata bilangan genap adalah 6.0\n"
     ]
    }
   ],
   "source": [
    "int bil, jmlBilGenap, totalGenap=0, i=1;\n",
    "double avg;\n",
    "Scanner sc = new Scanner(System.in);\n",
    "System.out.print(\"Masukkan angka: \");\n",
    "bil = sc.nextInt();\n",
    "jmlBilGenap=bil/2;\n",
    "System.out.println(\"Banyaknya bilangan genap adalah \"+jmlBilGenap);\n",
    "System.out.print(\"Angka genap dalam range tersebut adalah \");\n",
    "while(i<bil){\n",
    "    i++;\n",
    "    if(i%2==0){\n",
    "        System.out.printf(\"%d, \", i);\n",
    "        totalGenap+=i;\n",
    "    }\n",
    "}\n",
    "avg=(double) totalGenap/jmlBilGenap;\n",
    "System.out.println(\"\\nHasil penjumlahan bilangan genap adalah \"+totalGenap);\n",
    "System.out.println(\"Rata-rata bilangan genap adalah \"+avg);"
   ]
  },
  {
   "cell_type": "markdown",
   "metadata": {},
   "source": [
    "2. Buatlah program untuk menampilkan angka 1 hingga angka masukan pengguna secara berurutan dan melompati angka kelipatan 5. Seperti tampilan di bawah ini\n",
    "<p align=\"left\">\n",
    "<img width=\"184\" height=\"328\" src=\"images/tugas1.jpg\" align=\"left\">\n",
    "</p>"
   ]
  },
  {
   "cell_type": "code",
   "execution_count": 22,
   "metadata": {},
   "outputs": [
    {
     "name": "stdout",
     "output_type": "stream",
     "text": [
      "Masukkan angka: 19\n",
      "1\n",
      "2\n",
      "3\n",
      "4\n",
      "6\n",
      "7\n",
      "8\n",
      "9\n",
      "11\n",
      "12\n",
      "13\n",
      "14\n",
      "16\n",
      "17\n",
      "18\n",
      "19\n"
     ]
    }
   ],
   "source": [
    "Scanner sc = new Scanner(System.in);\n",
    "System.out.print(\"Masukkan angka: \");\n",
    "int angka = sc.nextInt();\n",
    "for (int i = 0; i <= angka ; i++) {\n",
    "    if(i%5==0) continue;\n",
    "    System.out.println(i);\n",
    "}"
   ]
  },
  {
   "cell_type": "markdown",
   "metadata": {},
   "source": [
    "3. Buatlah sebuah program yang menampilkan deret bilangan fibonacci sebagai berikut. Dimana bilangan yang terletak di sebelah kanan adalah hasil penjumlahan dari 2 bilangan sebelumnya\n",
    " <p align=\"left\">\n",
    "    <img width=\"451\" height=\"226\" src=\"images/fibo.png\" align=\"left\">\n",
    "    </p>\n"
   ]
  },
  {
   "cell_type": "code",
   "execution_count": 25,
   "metadata": {},
   "outputs": [
    {
     "name": "stdout",
     "output_type": "stream",
     "text": [
      "berapa angka yang ingin ditampilkan? 12\n",
      "0 1 1 2 3 5 8 13 21 34 55 89"
     ]
    }
   ],
   "source": [
    "System.out.print(\"berapa angka yang ingin ditampilkan? \");\n",
    "int batas = sc.nextInt();\n",
    "int a=0, b=1, c, i;\n",
    "System.out.printf(\"%d %d\",a,b);\n",
    "for(int i=2; i<batas; ++i){\n",
    "c=a+b;\n",
    "System.out.printf(\" %d\",c);\n",
    "a=b;\n",
    "b=c;\n",
    "}\n",
    "/*\n",
    "System.out.println(\"\\n\");\n",
    "a=1;\n",
    "for(int i=1; i<=angka; i+=a){\n",
    "    System.out.printf(\"%d + %d = \",a,i);\n",
    "    System.out.printf(\"%d\\n\",a);\n",
    "    a+=i;\n",
    "}*/"
   ]
  },
  {
   "cell_type": "code",
   "execution_count": null,
   "metadata": {
    "scrolled": true
   },
   "outputs": [],
   "source": []
  }
 ],
 "metadata": {
  "kernelspec": {
   "display_name": "Java",
   "language": "java",
   "name": "java"
  },
  "language_info": {
   "codemirror_mode": "java",
   "file_extension": ".jshell",
   "mimetype": "text/x-java-source",
   "name": "Java",
   "pygments_lexer": "java",
   "version": "17+35-LTS-2724"
  },
  "nteract": {
   "version": "nteract-on-jupyter@2.1.3"
  }
 },
 "nbformat": 4,
 "nbformat_minor": 1
}
