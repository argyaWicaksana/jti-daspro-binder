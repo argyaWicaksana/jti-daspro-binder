{
 "cells": [
  {
   "cell_type": "markdown",
   "metadata": {},
   "source": [
    "## JOBSHEET 13. Fungsi 1"
   ]
  },
  {
   "cell_type": "markdown",
   "metadata": {},
   "source": [
    "## Tujuan\n",
    "* Mahasiswa mampu memahami penggunaan fungsi static pada Java dengan parameter dan mengembalikan nilai.\n",
    "* Mahasiswa mampu membuat program menggunakan fungsi static dan mengeksekusi fungsi tersebut.\n"
   ]
  },
  {
   "cell_type": "markdown",
   "metadata": {},
   "source": [
    "## Alat dan Bahan\n",
    "* PC/Laptop\n",
    "* Browser\n",
    "* Koneksi internet\n",
    "* Anaconda3 + Java kernel (opsional)"
   ]
  },
  {
   "cell_type": "markdown",
   "metadata": {},
   "source": [
    "## Praktikum"
   ]
  },
  {
   "cell_type": "markdown",
   "metadata": {},
   "source": [
    "### Percobaan 1: Fungsi Void (tidak menggunakan return value)\n",
    "\n",
    "1.\tBuat fungsi **beriSalam** bertipe void yang digunakan untuk mencetak **“Halo! Selamat Pagi”**.\n",
    "![Gambar 1](images/1.1.png)"
   ]
  },
  {
   "cell_type": "markdown",
   "metadata": {},
   "source": [
    "2. Eksekusi atau panggil fungsi **beriSalam**.\n",
    "![Gambar 2](images/1.2.png)"
   ]
  },
  {
   "cell_type": "code",
   "execution_count": 1,
   "metadata": {},
   "outputs": [
    {
     "name": "stdout",
     "output_type": "stream",
     "text": [
      "halo! selamat pagi\n"
     ]
    }
   ],
   "source": [
    "static void beriSalam(){\n",
    "    System.out.println(\"halo! selamat pagi\");\n",
    "}\n",
    "beriSalam();"
   ]
  },
  {
   "cell_type": "markdown",
   "metadata": {},
   "source": [
    "3. Buat fungsi **beriUcapan** dengan sebuah parameter bertipe String.\n",
    "![Gambar 3](images/1.3.png)"
   ]
  },
  {
   "cell_type": "markdown",
   "metadata": {},
   "source": [
    "4. Buatlah variabel **salam** bertipe String kemudian eksekusi atau panggil fungsi **beriUcapan** dengan mengisi parameternya dengan variable **salam** yang sudah dibuat.\n",
    "![Gambar 3](images/1.4.png)"
   ]
  },
  {
   "cell_type": "code",
   "execution_count": 5,
   "metadata": {},
   "outputs": [
    {
     "name": "stdout",
     "output_type": "stream",
     "text": [
      "halo! selamat pagi\n",
      "selamat datang di pemrograman java\n"
     ]
    }
   ],
   "source": [
    "static void beriSalam(){\n",
    "    System.out.println(\"halo! selamat pagi\");\n",
    "}\n",
    "\n",
    "static void beriUcapan(String ucapan){\n",
    "    System.out.println(ucapan);\n",
    "}\n",
    "\n",
    "beriSalam();\n",
    "String salam = \"selamat datang di pemrograman java\";\n",
    "beriUcapan(salam);"
   ]
  },
  {
   "cell_type": "markdown",
   "metadata": {},
   "source": [
    "#### Pertanyaan\n",
    "1. Jelaskan perbedaan fungsi **beriSalam** dan **beriUcapan** pada praktikum 1!"
   ]
  },
  {
   "cell_type": "markdown",
   "metadata": {},
   "source": [
    "beriSalam berfungsi untuk menjalankan program yan ada di fungsi tersebut, yaitu print \"halo selamat pagi\"\n",
    "\n",
    "beriUcapan juga sama seperti beriSalam, tetapi harus memasukkan variabel, agar program dapat dijalankan"
   ]
  },
  {
   "cell_type": "markdown",
   "metadata": {},
   "source": [
    "2. Jelaskan cara pemanggilan sebuah fungsi void yang berparameter dan tanpa parameter!"
   ]
  },
  {
   "cell_type": "markdown",
   "metadata": {},
   "source": [
    "-dengan parameter\n",
    "namaFungsi();\n",
    "\n",
    "-tanpa parameter\n",
    "namaFungsi(variabel);\n",
    "variabel juga bisa diisi dengan nilai variabel. contoh:\n",
    "namaFungsi(\"hello world\");\n",
    "atau\n",
    "namaFungsi(3);"
   ]
  },
  {
   "cell_type": "markdown",
   "metadata": {},
   "source": [
    "### Percobaan 2: Fungsi dengan return value (Bukan void)\n",
    "Pada Percobaan 2, kode program yang dibuat digunakan untuk menghitung luas persegi dengan membuat fungsi **luasPersegi** yang menggunakan parameter.\n",
    "1. Buat fungsi **luasPersegi**  untuk menghitung luas persegi yang mengembalikan nilai luas (int) dan parameter masukan sisi (int).\n",
    "![Gambar 4](images/2.1.png)"
   ]
  },
  {
   "cell_type": "markdown",
   "metadata": {},
   "source": [
    "2.\tEksekusi atau panggil fungsi luasPersegi dengan cara membuat variabel baru yaitu **luasan**, kemudian isi variabel tersebut dengan memanggil fungsi luasPersegi dan mengisi parameter sisi. Selanjutnya cetak variabel luasan untuk menampilkan luas persegi panjang\n",
    "![Gambar 5](images/2.2.png)"
   ]
  },
  {
   "cell_type": "code",
   "execution_count": 9,
   "metadata": {},
   "outputs": [
    {
     "name": "stdout",
     "output_type": "stream",
     "text": [
      "luas persegi dengan sisi 5 = 25\n"
     ]
    }
   ],
   "source": [
    "static int luasPersegi(int sisi){\n",
    "    int luas =sisi*sisi;\n",
    "    return luas;\n",
    "}\n",
    "\n",
    "int luasan = luasPersegi(5);\n",
    "System.out.println(\"luas persegi dengan sisi 5 = \"+luasan);"
   ]
  },
  {
   "cell_type": "markdown",
   "metadata": {},
   "source": [
    "#### Pertanyaan\n",
    "1. jelaskan mengapa ketika memanggil fungsi **luasPersegi** harus membuat variabel baru yaitu luasan?"
   ]
  },
  {
   "cell_type": "markdown",
   "metadata": {},
   "source": [
    "agar nanti variabel luasan akan diberi nilai output dari fungsi luasPersegi. lalu variabel luasan akan diprint\n",
    "\n",
    "output dari fungsi luasPersegi adalah variabel luas. jika fungsi luasPersegi dipanggil, yang akan keluar yaitu\n",
    "nilai dari variabel luas. dengan membuat variabel baru di fungsi main, dapat menjadi \"tempat\" bagi outputnya fungsi\n",
    "luasPersegi"
   ]
  },
  {
   "cell_type": "markdown",
   "metadata": {},
   "source": [
    "2. Jelaskan kegunaan **return luas** pada percobaan 2 diatas!"
   ]
  },
  {
   "cell_type": "code",
   "execution_count": null,
   "metadata": {},
   "outputs": [],
   "source": [
    "agar saat fungsi dipanggil, output yang akan keluar adalah nilai dari variabel luas"
   ]
  },
  {
   "cell_type": "markdown",
   "metadata": {},
   "source": [
    "3. Modifikasilah program di percobaan 2, dengan membuat panjang **sisi** sebagai inputan!"
   ]
  },
  {
   "cell_type": "code",
   "execution_count": 7,
   "metadata": {},
   "outputs": [
    {
     "name": "stdout",
     "output_type": "stream",
     "text": [
      "masukkan panjang sisi: 8\n",
      "luas persegi dengan sisi 8 = 64"
     ]
    },
    {
     "data": {
      "text/plain": [
       "java.io.PrintStream@b625a0c"
      ]
     },
     "execution_count": 7,
     "metadata": {},
     "output_type": "execute_result"
    }
   ],
   "source": [
    "Scanner sc= new Scanner(System.in);\n",
    "static int luasPersegi(int sisi){\n",
    "    int luas =sisi*sisi;\n",
    "    return luas;\n",
    "}\n",
    "\n",
    "System.out.print(\"masukkan panjang sisi: \");\n",
    "int panjangSisi = sc.nextInt();\n",
    "System.out.printf(\"luas persegi dengan sisi %d = %d\", panjangSisi, luasPersegi(panjangSisi));"
   ]
  },
  {
   "cell_type": "markdown",
   "metadata": {},
   "source": [
    "### Percobaan 3: Fungsi dapat meng-CALL Fungsi Lain\n",
    "Pada Percobaan 3, kode program yang dibuat digunakan untuk mengimplementasikan bahwa fungsi dapat meng-CALL fungsi yang lain. Dimana dalam percobaan ini terdapat fungsi **Kali dan Kurang**. \n",
    "1. Buatlah fungsi **Kali** yang mengembalikan nilai H (int) dan parameter masukan C dan D (int).\n",
    "![Gambar 9](images/3.1.png)"
   ]
  },
  {
   "cell_type": "markdown",
   "metadata": {},
   "source": [
    "2.\tBuatlah fungsi **Kurang** yang mengembalikan nilai X (int) dan parameter masukan A dan B (int) dan memanggil fungsi Kali.\n",
    "![Gambar 10](images/3.2.png)"
   ]
  },
  {
   "cell_type": "markdown",
   "metadata": {},
   "source": [
    "3. Lakukan import class Scanner sebagai inputan di langkah selajutnya."
   ]
  },
  {
   "cell_type": "markdown",
   "metadata": {},
   "source": [
    "4. Eksekusi atau panggil fungsi **Kurang** .\n",
    "![Gambar 11](images/3.4.png)"
   ]
  },
  {
   "cell_type": "code",
   "execution_count": 2,
   "metadata": {},
   "outputs": [
    {
     "name": "stdout",
     "output_type": "stream",
     "text": [
      "masukkan nilai 1: \n",
      "5\n",
      "masukkan nilai 2: \n",
      "6\n",
      "hasil akhir adalah 22\n"
     ]
    }
   ],
   "source": [
    "static int Kali(int C, int D){\n",
    "    int H;\n",
    "    H=(C+10)%(D+19);\n",
    "    return H;\n",
    "}\n",
    "static int Kurang(int A, int B){\n",
    "    int X;\n",
    "    A=A+7;\n",
    "    B=B+4;\n",
    "    X=Kali(A,B);\n",
    "    return X;\n",
    "}\n",
    "\n",
    "int nilai1, nilai2;\n",
    "Scanner input = new Scanner(System.in);\n",
    "System.out.println(\"masukkan nilai 1: \");\n",
    "nilai1=input.nextInt();\n",
    "System.out.println(\"masukkan nilai 2: \");\n",
    "nilai2=input.nextInt();\n",
    "int hasil= Kurang(nilai1, nilai2);\n",
    "System.out.println(\"hasil akhir adalah \"+hasil);"
   ]
  },
  {
   "cell_type": "markdown",
   "metadata": {},
   "source": [
    "#### Pertanyaan\n",
    "1. Modifikasilah percobaan diatas dimana di fungsi **Kali** dapat memanggil fungsi **Kurang** kemudian eksekusi atau panggil fungsi Kali"
   ]
  },
  {
   "cell_type": "code",
   "execution_count": 4,
   "metadata": {},
   "outputs": [
    {
     "name": "stdout",
     "output_type": "stream",
     "text": [
      "masukkan nilai 1: \n",
      "5\n",
      "masukkan nilai 2: \n",
      "6\n",
      "hasil akhir adalah 22\n"
     ]
    }
   ],
   "source": [
    "static int Kali(int C, int D){\n",
    "    int H;\n",
    "    C+=10;\n",
    "    D+=19;\n",
    "    //H=(C+10)%(D+19);\n",
    "    H=Kurang(C,D);\n",
    "    return H;\n",
    "}\n",
    "static int Kurang(int A, int B){\n",
    "    int X;\n",
    "    A=A+7;\n",
    "    B=B+4;\n",
    "    //X=Kali(A,B);\n",
    "    X=A%B;\n",
    "    return X;\n",
    "}\n",
    "\n",
    "int nilai1, nilai2;\n",
    "Scanner input = new Scanner(System.in);\n",
    "System.out.println(\"masukkan nilai 1: \");\n",
    "nilai1=input.nextInt();\n",
    "System.out.println(\"masukkan nilai 2: \");\n",
    "nilai2=input.nextInt();\n",
    "int hasil= Kali(nilai1, nilai2);\n",
    "System.out.println(\"hasil akhir adalah \"+hasil);"
   ]
  },
  {
   "cell_type": "markdown",
   "metadata": {},
   "source": [
    "2. Jelaskan alur jalannya program di percobaan 3 mulai dari input sampai keluar output!"
   ]
  },
  {
   "cell_type": "code",
   "execution_count": null,
   "metadata": {},
   "outputs": [],
   "source": [
    "menginputkan nilai1 dan nilai2, lalu memanggil fungsi Kurang dengan memasukkan nilai1 dan nilai2(output fungsi\n",
    "Kurang akan dimasukkan ke variabel hasil). \n",
    "fungsi Kurang dengan parameter int A dan B (nilai1 dan nilai2 akan dimasukkan ke parameter) menjalankan program.\n",
    "lalu memanggil fungsi Kali dengan memasukkan variabel A dan B(output fungsi Kali akan dimasukkan ke variabel X).\n",
    "fungsi Kali akan menjalankan program dengan parameter int C dan D. output dari fungsi Kali yaitu variabel H.\n",
    "nilai variabel H akan dikirim ke variabel kurang, lalu variabel x di fungsi Kurang akan dikirim ke fungsi Main."
   ]
  },
  {
   "cell_type": "markdown",
   "metadata": {},
   "source": [
    "### Percobaan 4: Mengubah Program Tidak Menggunakan Fungsi dan Menggunakan Fungsi\n",
    "Pada Percobaan 4, kode program yang dibuat digunakan untuk menghitung luas persegi panjang dan volume balok tanpa menggunakan fungsi dan dengan menggunakan fungsi.\n",
    "1. Import dan deklarasikan Scanner dengan nama **input**\n",
    "![Gambar 9](images/4.1.png)"
   ]
  },
  {
   "cell_type": "markdown",
   "metadata": {},
   "source": [
    "2. Buatlah inputan panjang, lebar, dan tinggi \n",
    "![Gambar 10](images/4.2.png)"
   ]
  },
  {
   "cell_type": "markdown",
   "metadata": {},
   "source": [
    "3. Hitung luas persegi panjang dan volume balok\n",
    "![Gambar 10](images/4.3.png)"
   ]
  },
  {
   "cell_type": "code",
   "execution_count": 11,
   "metadata": {},
   "outputs": [
    {
     "name": "stdout",
     "output_type": "stream",
     "text": [
      "masukkan panjang: \n",
      "20\n",
      "masukkan lebar: \n",
      "8\n",
      "masukkan tinggi: \n",
      "15\n",
      "luas persegi panjang adalah 160\n",
      "volume balok adalah 2400\n"
     ]
    }
   ],
   "source": [
    "import java.util.Scanner;\n",
    "Scanner input = new Scanner(System.in);\n",
    "int p,l,t,L,vol;\n",
    "\n",
    "System.out.println(\"masukkan panjang: \");\n",
    "p=input.nextInt();\n",
    "System.out.println(\"masukkan lebar: \");\n",
    "l=input.nextInt();\n",
    "System.out.println(\"masukkan tinggi: \");\n",
    "t=input.nextInt();\n",
    "\n",
    "L=p*l;\n",
    "System.out.println(\"luas persegi panjang adalah \"+L);\n",
    "vol=p*l*t;\n",
    "System.out.println(\"volume balok adalah \"+vol);"
   ]
  },
  {
   "cell_type": "markdown",
   "metadata": {},
   "source": [
    "4. Program menghitung luas persegi dan volume balok diatas jika dibuatkan fungsi maka terdapat 3 fungsi yaitu hitungLuas, hitungVolume dan fungsi main, seperti dibawah ini:\n",
    "\n",
    "Fungsi hitungLuas\n",
    "\n",
    "![Gambar 10](images/4.4Luas.png)\n",
    "\n",
    "Fungsi hitungVolume\n",
    "![Gambar 10](images/4.4Volume.png)\n",
    "\n"
   ]
  },
  {
   "cell_type": "markdown",
   "metadata": {},
   "source": [
    "5. Eksekusi/panggil fungsi **hitungLuas** dan **hitungVolume**\n",
    "\n",
    "![Gambar 10](images/4.5.png)"
   ]
  },
  {
   "cell_type": "code",
   "execution_count": 13,
   "metadata": {},
   "outputs": [
    {
     "name": "stdout",
     "output_type": "stream",
     "text": [
      "masukkan panjang: 20\n",
      "masukkan lebar: 8\n",
      "masukkan tinggi: 15\n",
      "luas persegi panjang adalah 160\n",
      "volume balok adalah 2400\n"
     ]
    }
   ],
   "source": [
    "static int hitungLuas(int pjg, int lb){\n",
    "    int Luas=pjg*lb;\n",
    "    return Luas;\n",
    "}\n",
    "\n",
    "static int hitungVolume (int tinggi, int a, int b){\n",
    "    int volume=hitungLuas(a,b)*tinggi;\n",
    "    return volume;\n",
    "}\n",
    "\n",
    "Scanner input =new Scanner(System.in);\n",
    "int p,l,t,L, vol;\n",
    "System.out.print(\"masukkan panjang: \");\n",
    "p=input.nextInt();\n",
    "System.out.print(\"masukkan lebar: \");\n",
    "l=input.nextInt();\n",
    "System.out.print(\"masukkan tinggi: \");\n",
    "t=input.nextInt();\n",
    "\n",
    "L=hitungLuas(p,l);\n",
    "System.out.println(\"luas persegi panjang adalah \"+L);\n",
    "vol=hitungVolume(t,p,l);\n",
    "System.out.println(\"volume balok adalah \"+vol);"
   ]
  },
  {
   "cell_type": "markdown",
   "metadata": {},
   "source": [
    "#### Pertanyaan\n",
    "1. Jelaskan kegunaan parameter yang terdapat didalam fungsi hitungLuas dan hitungVolume!"
   ]
  },
  {
   "cell_type": "code",
   "execution_count": null,
   "metadata": {},
   "outputs": [],
   "source": [
    "agar bisa menampung nilai dari fungsi lain"
   ]
  },
  {
   "cell_type": "markdown",
   "metadata": {},
   "source": [
    "2. Setelah melakukan percobaan 4, menurut anda manakah program yg lebih efisien apakah menggunakan fungsi atau tanpa fungsi? Jelaskan!"
   ]
  },
  {
   "cell_type": "code",
   "execution_count": null,
   "metadata": {},
   "outputs": [],
   "source": [
    "lebih efisien tanpa fungsi, karena\n",
    "1. dengan fungsi memakai banyak variabel dibandingkan tanpa fungsi\n",
    "2. fungsi hanya dipakai sekali(dipanggil sekali). jika fungsi dipanggil lebih dari sekali, jelas akan lebih efisien\n",
    "menggunakan fungsi."
   ]
  },
  {
   "cell_type": "markdown",
   "metadata": {},
   "source": [
    "### Percobaan 5: Fungsi Menggunakan Array dan Variabel Global\n",
    "Pada Percobaan 5, kode program yang dibuat digunakan untuk menghitung total nilai yang ada didalam array dengan membuat 3 fungsi yaitu isiarray, hitTol, dan tampilArray.\n",
    "1. Buatlah **variable global total dan i** bertipe int\n",
    "![Gambar 9](images/5.1pertama.png)"
   ]
  },
  {
   "cell_type": "markdown",
   "metadata": {},
   "source": [
    "2. Buatlah fungsi **isiarray** bertipe int dengan parameter angka bertipe int \n",
    "\n",
    "![Gambar 10](images/5.1.png)"
   ]
  },
  {
   "cell_type": "markdown",
   "metadata": {},
   "source": [
    "3. Buatlah fungsi **tampilArray** bertipe **void** dengan parameter data array **arr** bertipe int\n",
    "\n",
    "![Gambar 10](images/5.2.png)"
   ]
  },
  {
   "cell_type": "markdown",
   "metadata": {},
   "source": [
    "4. Buatlah fungsi **hitTot** bertipe int dengan parameter data array **arr** bertipe int\n",
    "\n",
    "![Gambar 10](images/5.3.png)"
   ]
  },
  {
   "cell_type": "markdown",
   "metadata": {},
   "source": [
    "5. Import dan deklarasikan Scanner dengan nama **input**\n",
    "\n",
    "![Gambar 10](images/4.1.png)"
   ]
  },
  {
   "cell_type": "markdown",
   "metadata": {},
   "source": [
    "6. Eksekusi atau panggil ketiga fungsi yaitu **isiarray, tampilArray, dan hitTot**, kemudian jalankan program!\n",
    "\n",
    "![Gambar 10](images/5.6.png)"
   ]
  },
  {
   "cell_type": "code",
   "execution_count": 19,
   "metadata": {},
   "outputs": [
    {
     "name": "stdout",
     "output_type": "stream",
     "text": [
      "masukkan jumlah data yang ingin anda inputkan: \n",
      "3\n",
      "masukkan data ke-0\n",
      "5\n",
      "masukkan data ke-1\n",
      "6\n",
      "masukkan data ke-2\n",
      "7\n",
      "nilai yang anda inputkan ke 0\n",
      "5\n",
      "nilai yang anda inputkan ke 1\n",
      "6\n",
      "nilai yang anda inputkan ke 2\n",
      "7\n",
      "total nilai = 18\n"
     ]
    }
   ],
   "source": [
    "static int total=0, i;\n",
    "\n",
    "static int[] isiarray (int angka){\n",
    "    Scanner input = new Scanner(System.in);\n",
    "    int array[]=new int [angka];\n",
    "    for(int i=0;i<array.length;i++){\n",
    "        System.out.println(\"masukkan data ke-\"+i);\n",
    "        array[i]= input.nextInt();\n",
    "    }\n",
    "    return array;\n",
    "}\n",
    "\n",
    "static void tampilArray(int[] arr){\n",
    "    for(int i=0; i<arr.length; i++){\n",
    "        System.out.println(\"nilai yang anda inputkan ke \"+i);\n",
    "        System.out.println(arr[i]);\n",
    "    }\n",
    "}\n",
    "\n",
    "static int hitTot(int[] arr){\n",
    "    for(int i=0; i<arr.length; i++){\n",
    "        total+=arr[i];\n",
    "    }\n",
    "    return total;\n",
    "}\n",
    "\n",
    "import java.util.Scanner;\n",
    "Scanner input = new Scanner(System.in);\n",
    "\n",
    "System.out.println(\"masukkan jumlah data yang ingin anda inputkan: \");\n",
    "int jum=input.nextInt();\n",
    "int[] dataArray= isiarray(jum);\n",
    "tampilArray(dataArray);\n",
    "total=hitTot(dataArray);\n",
    "System.out.println(\"total nilai = \"+total);"
   ]
  },
  {
   "cell_type": "markdown",
   "metadata": {},
   "source": [
    "#### Pertanyaan\n",
    "1. Jelaskan mengapa fungsi tampil array dibuat bertipe void, sedangkan isiarray dan hitTot bertipe int!"
   ]
  },
  {
   "cell_type": "code",
   "execution_count": null,
   "metadata": {},
   "outputs": [],
   "source": [
    "karena tidak ada yang direturn\n",
    "isiarray dan hitTot bertipe int karena yang direturn bertipe data int"
   ]
  },
  {
   "cell_type": "markdown",
   "metadata": {},
   "source": [
    "2. Menurut pendapat anda apakah fugsi isiarray dan hitTot dapat diganti dengan tipe void? Jelaskan dan buktikan dengan program!"
   ]
  },
  {
   "cell_type": "markdown",
   "metadata": {},
   "source": [
    "bisa, dengan menjadikan array ssebagai global"
   ]
  },
  {
   "cell_type": "code",
   "execution_count": 1,
   "metadata": {},
   "outputs": [
    {
     "name": "stdout",
     "output_type": "stream",
     "text": [
      "masukkan jumlah data yang ingin anda inputkan: 3\n",
      "masukkan data ke-0 5\n",
      "masukkan data ke-1 6\n",
      "masukkan data ke-2 5\n",
      "nilai yang anda inputkan ke 0\n",
      "5\n",
      "nilai yang anda inputkan ke 1\n",
      "6\n",
      "nilai yang anda inputkan ke 2\n",
      "5\n",
      "total nilai = 16\n"
     ]
    }
   ],
   "source": [
    "static int total=0, i;\n",
    "static int[] array;\n",
    "\n",
    "static void isiarray (int angka){\n",
    "    Scanner input = new Scanner(System.in);\n",
    "    array=new int [angka];\n",
    "    for(int i=0;i<array.length;i++){\n",
    "        System.out.print(\"masukkan data ke-\"+i+\" \");\n",
    "        array[i]= input.nextInt();\n",
    "    }\n",
    "}\n",
    "\n",
    "static void tampilArray(){\n",
    "    for(int i=0; i<array.length; i++){\n",
    "        System.out.println(\"nilai yang anda inputkan ke \"+i);\n",
    "        System.out.println(array[i]);\n",
    "    }\n",
    "}\n",
    "\n",
    "static void hitTot(){\n",
    "    for(int i=0; i<array.length; i++){\n",
    "        total+=array[i];\n",
    "    }\n",
    "    System.out.println(\"total nilai = \"+total);\n",
    "}\n",
    "\n",
    "import java.util.Scanner;\n",
    "Scanner input = new Scanner(System.in);\n",
    "\n",
    "System.out.print(\"masukkan jumlah data yang ingin anda inputkan: \");\n",
    "int jum=input.nextInt();\n",
    "isiarray(jum);\n",
    "tampilArray();\n",
    "hitTot();"
   ]
  },
  {
   "cell_type": "markdown",
   "metadata": {},
   "source": [
    "## Tugas"
   ]
  },
  {
   "cell_type": "markdown",
   "metadata": {},
   "source": [
    "1. Buatlah sebuah static method yang bernama Max3(int bil1, int bil2, int bil3) yang menerima 3 buah parameter bilangan integer dan mengembalikan sebuah bilangan integer yang merupakan nilai maksimum diantara ketiga bilangan tersebut. "
   ]
  },
  {
   "cell_type": "code",
   "execution_count": 6,
   "metadata": {},
   "outputs": [
    {
     "name": "stdout",
     "output_type": "stream",
     "text": [
      "masukkan bilangan ke-1: 4\n",
      "masukkan bilangan ke-2: 5\n",
      "masukkan bilangan ke-3: 6\n",
      "nilai maksimum adalah 6"
     ]
    }
   ],
   "source": [
    "static int Max3(int bil1, int bil2, int bil3){\n",
    "    int maks=bil1;\n",
    "    if(maks<bil2)maks=bil2;\n",
    "    if(maks<bil3)maks=bil3;\n",
    "    \n",
    "    return maks;\n",
    "}\n",
    "\n",
    "import java.util.Scanner;\n",
    "Scanner sc= new Scanner(System.in);\n",
    "System.out.print(\"masukkan bilangan ke-1: \");\n",
    "int a=sc.nextInt();\n",
    "System.out.print(\"masukkan bilangan ke-2: \");\n",
    "int b=sc.nextInt();\n",
    "System.out.print(\"masukkan bilangan ke-3: \");\n",
    "int c=sc.nextInt();\n",
    "\n",
    "int maksimum=Max3(a,b,c);\n",
    "System.out.print(\"nilai maksimum adalah \"+maksimum);"
   ]
  },
  {
   "cell_type": "markdown",
   "metadata": {},
   "source": [
    "2. Disebuah restoran terdapat 3 menu yang dijual yaitu nasi goreng, soto, dan sate. Harga nasi goreng Rp. 20.000, soto Rp. 15.000, dan sate Rp. 25.000. Restoran tersebut buka dari hari senin sampai jumat. Berikut ini merupakan tabel pejualan perhari untuk masing-masing menu di restoran tersebut dari hari senin sampai jumat\n",
    "![Gambar 13](images/soal3.png)\n",
    "\n",
    "Buatlah Fungsi sebagai berikut:\n",
    " * Fungsi menampilkan menu favorit di hari selasa dan jumat (menu favorit diasumsikan adalah menu yang paling banyak terjual di hari tersebut)\n",
    " * Fungsi untuk menghitung pemasukan restoran tersebut mulai hari senin sampai jumat.\n",
    " * Fungsi untuk menghitung berapa porsi yang terjual untuk masing-masing menu yaitu nasi goreng, soto, dan sate mulai senin sampai jumat."
   ]
  },
  {
   "cell_type": "code",
   "execution_count": 4,
   "metadata": {},
   "outputs": [
    {
     "name": "stdout",
     "output_type": "stream",
     "text": [
      "menu favorit hari selasa adalah soto\n",
      "menu favorit hari jumat adalah nasi goreng\n",
      "\n",
      "total nasi goreng terjual adalah 164 porsi\n",
      "total soto terjual adalah 143 porsi\n",
      "total sate terjual adalah 128 porsi\n",
      "\n",
      "total pemasukan adalah Rp 8625000\n"
     ]
    }
   ],
   "source": [
    "static int favorit(int[][] a, int h){\n",
    "    int fav=a[0][h];\n",
    "    int menu=0;\n",
    "    for(int i=0;i<a.length;i++){\n",
    "        if(fav<a[i][h]){\n",
    "            fav=a[i][h];\n",
    "            menu=i;\n",
    "        }\n",
    "    }\n",
    "    return menu;\n",
    "}\n",
    "\n",
    "static int[] total(int[][] hari){\n",
    "    int tot[]=new int[3];\n",
    "    for(int i=0;i<hari.length;i++){\n",
    "        for(int j=0;j<hari[0].length;j++){\n",
    "            tot[i]+=hari[i][j];\n",
    "        }\n",
    "    }\n",
    "    return tot;\n",
    "}\n",
    "\n",
    "static int pemasukan(int[] p, int[] price, String[] m){\n",
    "    int pem=0;\n",
    "    for(int i=0;i<p.length;i++){\n",
    "        pem+=p[i]*price[i];\n",
    "        System.out.println(\"total \"+masakan[i]+\" terjual adalah \"+p[i]+\" porsi\");\n",
    "    }\n",
    "    System.out.println();\n",
    "    return pem;\n",
    "}\n",
    "\n",
    "static String[] masakan={\"nasi goreng\", \"soto\", \"sate\"};\n",
    "static int penjualan[][]={{20,15,35,24,70}, {30,40,10,28,35}, {5,10,50,48,15}};\n",
    "int [] harga ={20000, 15000, 25000};\n",
    "\n",
    "int selasa =favorit(penjualan, 1);\n",
    "int jumat =favorit(penjualan, 4);\n",
    "System.out.println(\"menu favorit hari selasa adalah \"+ masakan[selasa]);\n",
    "System.out.println(\"menu favorit hari jumat adalah \"+ masakan[jumat]+\"\\n\");\n",
    "\n",
    "int[] porsiTerjual=total(penjualan);\n",
    "System.out.println(\"total pemasukan adalah Rp \"+pemasukan(porsiTerjual, harga, masakan));"
   ]
  },
  {
   "cell_type": "code",
   "execution_count": null,
   "metadata": {},
   "outputs": [],
   "source": []
  }
 ],
 "metadata": {
  "kernelspec": {
   "display_name": "Java",
   "language": "java",
   "name": "java"
  },
  "language_info": {
   "codemirror_mode": "java",
   "file_extension": ".jshell",
   "mimetype": "text/x-java-source",
   "name": "Java",
   "pygments_lexer": "java",
   "version": "17.0.1+12-LTS-39"
  }
 },
 "nbformat": 4,
 "nbformat_minor": 4
}
