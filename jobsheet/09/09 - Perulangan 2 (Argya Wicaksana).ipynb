{
 "cells": [
  {
   "cell_type": "markdown",
   "metadata": {
    "collapsed": true
   },
   "source": [
    "<dl>\n",
    "  <dt>NIM : 2141720134</dt>\n",
    "\n",
    "  <dt>Nama : Argya Wicaksana</dt>\n",
    "    \n",
    "  <dt>Kelas : 1E</dt>\n",
    "</dl>\n",
    "\n",
    "\n",
    "___\n",
    "\n",
    "\n",
    "# JOBSHEET 09 - Perulangan 2\n",
    "\n",
    "## Tujuan\n",
    "+ Mahasiswa memahami konsep perulangan bersarang (_nested loop_)\n",
    "+ Mahasiswa dapat menjelaskan format penulisan perulangan bersarang (_nested loop_)\n",
    "+ Mahasiswa dapat mengimplementasikan _flowchart_ perulangan bersarang menggunakan bahasa pemrograman Java\n",
    "\n",
    "## Alat dan Bahan\n",
    "+ PC/laptop\n",
    "+ Browser(chrome, firefox, safari)\n",
    "+ Koneksi internet\n",
    "+ Anaconda3 + Java kernel (opsional)\n",
    "\n",
    "## Praktikum\n",
    "### Percobaan 1: Bintang Persegi\n",
    "1. Perhatikan Flowchart di bawah ini\n",
    "![Gambar 0](images/img-00.png)\n",
    "> flowchart di atas digunakan untuk menggambar sebuah persegi dengan simbol * (bintang)\n",
    "2. Pada percobaan ke-1 akan dilakukan percobaan tentang _nested loop_. Kasus yang akan diselesaikan adalah untuk membuat tampilan persegi * , dengan panjang sisi sebanyak N. Misalkan N dimasukan **5**, maka hasilnya adalah\n",
    "![Gambar 1](images/img-01.png)\n",
    "3. Karena program membutuhkan input dari keyboard, maka perlu import class Scanner\n",
    "4. Ketikan kode program di bawah ini\n",
    "![Gambar 2](images/img-02.png)"
   ]
  },
  {
   "cell_type": "code",
   "execution_count": 10,
   "metadata": {},
   "outputs": [
    {
     "name": "stdout",
     "output_type": "stream",
     "text": [
      "masukkan nilai N: 5\n",
      "******"
     ]
    }
   ],
   "source": [
    "import java.util.Scanner;\n",
    "\n",
    "int N;\n",
    "Scanner sc = new Scanner(System.in);\n",
    "System.out.print(\"masukkan nilai N: \");\n",
    "N= sc.nextInt();\n",
    "\n",
    "for(int i=0; i<=N; i++){\n",
    "    System.out.print(\"*\");\n",
    "}"
   ]
  },
  {
   "cell_type": "markdown",
   "metadata": {},
   "source": [
    "5.\tPerhatikan sintaks perulangan yang digunakan untuk mencetak * sebanyak N kali ke arah samping. Di tahap 4 di atas kode _looping **for**_ kita jadikan sebagai _**inner loop**_. \n",
    "6.\tKita looping lagi _inner loop_ sebanyak N kali untuk menghasilkan _output_ seperti tahap 2. Maka perlu ditambahkan perulangan luar (_outer loop_).\n",
    "![Gambar 3](images/img-03.png)"
   ]
  },
  {
   "cell_type": "code",
   "execution_count": 11,
   "metadata": {},
   "outputs": [
    {
     "name": "stdout",
     "output_type": "stream",
     "text": [
      "masukkan nilai N: 5\n",
      "******************************"
     ]
    }
   ],
   "source": [
    "import java.util.Scanner;\n",
    "\n",
    "int N;\n",
    "Scanner sc = new Scanner(System.in);\n",
    "System.out.print(\"masukkan nilai N: \");\n",
    "N= sc.nextInt();\n",
    "\n",
    "for(int outer=1; outer<=N; outer++){\n",
    "    for(int i=0; i<=N; i++){\n",
    "        System.out.print(\"*\");\n",
    "        }\n",
    "}\n"
   ]
  },
  {
   "cell_type": "markdown",
   "metadata": {},
   "source": [
    "#### Pertanyaan \n",
    "1. Apakah dengan menggabungkan _inner loop_ dan _outer loop_ seperti langkah 5 di atas sudah menghasilkan _output_ seperti gambar pada langkah 1?\n",
    "2. Jika belum, silahkan modifikasi kode program sehingga menghasilkan output yang sesuai dengan gambar pada langkah 2?\n",
    "\n",
    "#### Jawaban\n",
    "1. belum\n",
    "2. ..."
   ]
  },
  {
   "cell_type": "code",
   "execution_count": 12,
   "metadata": {},
   "outputs": [
    {
     "name": "stdout",
     "output_type": "stream",
     "text": [
      "masukkan nilai N: 5\n",
      "*****\n",
      "*****\n",
      "*****\n",
      "*****\n",
      "*****\n"
     ]
    }
   ],
   "source": [
    "import java.util.Scanner;\n",
    "\n",
    "int N;\n",
    "Scanner sc = new Scanner(System.in);\n",
    "System.out.print(\"masukkan nilai N: \");\n",
    "N= sc.nextInt();\n",
    "\n",
    "for(int outer=1; outer<=N; outer++){\n",
    "    for(int i=0; i<N; i++){\n",
    "        System.out.print(\"*\");\n",
    "        }\n",
    "    System.out.println(\"\");\n",
    "}"
   ]
  },
  {
   "cell_type": "markdown",
   "metadata": {},
   "source": [
    "***\n",
    "### Percobaan 2: Bintang Segitiga\n",
    "1.\tPada percobaan ke-2 akan dilakukan percobaan segitiga * sama siku dengan tinggi sebesar N. Misalkan N dimasukan **5**, maka hasilnya seperti gambar berikut\n",
    "![Gambar 4](images/img-04.png)\n",
    "2. Karena program membutuhkan input dari keyboard, maka perlu import class Scanner\n",
    "3. Ketikan kode program di bawah ini\n",
    "![Gambar 5](images/img-05.png)"
   ]
  },
  {
   "cell_type": "code",
   "execution_count": 13,
   "metadata": {},
   "outputs": [
    {
     "name": "stdout",
     "output_type": "stream",
     "text": [
      "masukkan nilai N: 5\n",
      "***************"
     ]
    }
   ],
   "source": [
    "Scanner sc= new Scanner(System.in);\n",
    "System.out.print(\"masukkan nilai N: \");\n",
    "int N= sc.nextInt();\n",
    "int i=0;\n",
    "while(i<=N){\n",
    "    int j=0;\n",
    "    while(j<i){\n",
    "        System.out.print(\"*\");\n",
    "        j++;\n",
    "    }\n",
    "    i++;\n",
    "}"
   ]
  },
  {
   "cell_type": "markdown",
   "metadata": {},
   "source": [
    "Amati kode program yang telah kalian tulis di atas.\n",
    "\n",
    "#### Pertanyaan\n",
    "1. Perhatikan, apakah output yang dihasilkan dengan nilai N = 5 sesuai dengan  tampilan seperti pada tahap 1 (Percobaan 2)?\n",
    "2. Jika tidak sesuai, bagian mana saja yang harus diperbaiki/ditambahkan? Jelaskan setiap bagian yang perlu diperbaiki/ditambahkan. \n",
    "\n",
    "#### Jawaban\n",
    "1. tidak\n",
    "2. ditambahkan println() dibawah inner loop agar bisa enter"
   ]
  },
  {
   "cell_type": "code",
   "execution_count": 21,
   "metadata": {},
   "outputs": [
    {
     "name": "stdout",
     "output_type": "stream",
     "text": [
      "masukkan nilai N: 5\n",
      "\n",
      "*\n",
      "**\n",
      "***\n",
      "****\n",
      "*****\n"
     ]
    }
   ],
   "source": [
    "Scanner sc= new Scanner(System.in);\n",
    "System.out.print(\"masukkan nilai N: \");\n",
    "int N= sc.nextInt();\n",
    "int i=0;\n",
    "while(i<=N){\n",
    "    int j=0;\n",
    "    while(j<i){\n",
    "        System.out.print(\"*\");\n",
    "        j++;\n",
    "    }\n",
    "    System.out.println();\n",
    "    i++;\n",
    "}\n"
   ]
  },
  {
   "cell_type": "markdown",
   "metadata": {},
   "source": [
    "***\n",
    "### Percobaan 3: Segitiga Angka\n",
    "1.\tPada percobaan ke-3 akan dilakukan percobaan segitiga angka sama siku dengan tinggi sebesar N. Misalkan N dimasukan **5**, maka hasilnya seperti berikut\n",
    "![Gambar 7](images/img-07.png)\n",
    "2. Karena program membutuhkan input dari keyboard, maka perlu import class Scanner\n",
    "3. Ketikan kode program di bawah ini\n",
    "![Gambar 8](images/img-08.png)\n"
   ]
  },
  {
   "cell_type": "code",
   "execution_count": 15,
   "metadata": {},
   "outputs": [
    {
     "name": "stdout",
     "output_type": "stream",
     "text": [
      "masukkan nilai N: 5\n",
      "1\n",
      "12\n",
      "123\n",
      "1234\n",
      "12345\n"
     ]
    }
   ],
   "source": [
    "import java.util.Scanner;\n",
    "Scanner input = new Scanner(System.in);\n",
    "System.out.print(\"masukkan nilai N: \");\n",
    "int N= input.nextInt();\n",
    "\n",
    "for(int i=1; i<=N; i++){\n",
    "    for(int j=1; j<=i; j++){\n",
    "        System.out.print(j);\n",
    "    }\n",
    "    System.out.println();\n",
    "}"
   ]
  },
  {
   "cell_type": "markdown",
   "metadata": {},
   "source": [
    "#### Pertanyaan \n",
    "1. Apakah kode program di atas menghasilkan _output_ yang diharapkan?\n",
    "2. Jika belum, kode program mana yang harus modifikasi? Jelaskan\n",
    "\n",
    "#### Jawaban\n",
    "1. belum\n",
    "2. dideklarasikan satu lagi integer, dan menambahkan integer tersebut dengan satu (a++) dibawah inner loop."
   ]
  },
  {
   "cell_type": "code",
   "execution_count": 24,
   "metadata": {},
   "outputs": [
    {
     "name": "stdout",
     "output_type": "stream",
     "text": [
      "masukkan nilai N: 5\n",
      "1\n",
      "22\n",
      "333\n",
      "4444\n",
      "55555\n"
     ]
    }
   ],
   "source": [
    "import java.util.Scanner;\n",
    "Scanner input = new Scanner(System.in);\n",
    "System.out.print(\"masukkan nilai N: \");\n",
    "int N= input.nextInt();\n",
    "int a=1;\n",
    "\n",
    "for(int i=1; i<=N; i++){\n",
    "    for(int j=1; j<=i; j++){\n",
    "        System.out.print(a);\n",
    "    }\n",
    "    System.out.println();\n",
    "    a++;\n",
    "}"
   ]
  },
  {
   "cell_type": "markdown",
   "metadata": {},
   "source": [
    "***\n",
    "### Percobaan 4: Tebak Angka\n",
    "1. Pada Percobaan 4 ini, kita akan belajar membuat kode untuk menebak angka menggunakan _nested loop_.\n",
    "2. Pada percobaan ini kita menggunakan library Scanner untuk menangkap input dari keyboard dan Random untuk meng-generate angka secara acak\n",
    "3. Ketik dan pahami kode program di bawah ini\n",
    "![Gambar 6](images/img-06.png)"
   ]
  },
  {
   "cell_type": "code",
   "execution_count": 3,
   "metadata": {},
   "outputs": [
    {
     "name": "stdout",
     "output_type": "stream",
     "text": [
      "tebak angka (1-10): 1\n",
      "tebak angka (1-10): 2\n",
      "tebak angka (1-10): 3\n",
      "tebak angka (1-10): 4\n",
      "yay... tebakan anda benar... selamat!!!\n",
      "apakah anda ingin mengulang permainan (Y/y)?n\n"
     ]
    }
   ],
   "source": [
    "import java.util.Scanner;\n",
    "import java.util.Random;\n",
    "\n",
    "Random random = new Random();\n",
    "Scanner input = new Scanner(System.in);\n",
    "char menu='y';\n",
    "\n",
    "do{\n",
    "    int number=random.nextInt(10)+1;\n",
    "    boolean success =false;\n",
    "    \n",
    "    do{\n",
    "        System.out.print(\"tebak angka (1-10): \");\n",
    "        int answer= input.nextInt();\n",
    "        input.nextLine();\n",
    "        \n",
    "        if(answer==number){\n",
    "            System.out.println(\"yay... tebakan anda benar... selamat!!!\");\n",
    "            success=true;\n",
    "        }\n",
    "    } while(!success);\n",
    "    System.out.print(\"apakah anda ingin mengulang permainan (Y/y)?\");\n",
    "    menu=input.nextLine().charAt(0);\n",
    "} while(menu=='y' || menu == 'Y');"
   ]
  },
  {
   "cell_type": "markdown",
   "metadata": {},
   "source": [
    "#### Pertanyaan\n",
    "1. Jelaskan alur program di atas!\n",
    "2. Apa yang harus dilakukan untuk tidak melanjutkan (tidak mengulangi) permainan tersebut? \n",
    "3. Modifikasi program di atas, sehingga bisa menampilkan informasi mengenai : \n",
    "    1. input nilai tebakan yang dimasukan oleh user apakah lebih kecil atau lebih besar dari nilai random!\n",
    "    2. hentikan _nested loop_ jika pengguna gagal menebak angka sampai 10x tebakan, dan beri pesan \"Maaf Anda gagal menebak angka sebanyak 10x\"\n",
    "\n",
    "#### Jawaban\n",
    "1. pada variabel number, diisi angka acak dari 1-10, lalu pengguna akan menebak angka tersebut, angka yg diketik pengguna akan dimasukkan ke variable answer, jika tebakannya benar, maka akan diprint \"yay... tebakan anda benar... selamat!!!\" lalu, akan diprint juga \"apakah anda ingin mengulang permainan (Y/y)?\". jika pengguna mengetik y atau Y, program akan memulai ulang, jika pengguna mengetik selain y, program akan selesai.\n",
    "2. mengetikkan huruf selain y dan Y\n"
   ]
  },
  {
   "cell_type": "code",
   "execution_count": 12,
   "metadata": {},
   "outputs": [
    {
     "name": "stdout",
     "output_type": "stream",
     "text": [
      "tebak angka (1-10): 5\n",
      "kurang besar\n",
      "tebak angka (1-10): 8\n",
      "kucang kecil\n",
      "tebak angka (1-10): 7\n",
      "kucang kecil\n",
      "tebak angka (1-10): 6\n",
      "yay... tebakan anda benar... selamat!!!\n",
      "apakah anda ingin mengulang permainan (Y/y)?n\n"
     ]
    }
   ],
   "source": [
    "import java.util.Scanner;\n",
    "import java.util.Random;\n",
    "\n",
    "Random random = new Random();\n",
    "Scanner input = new Scanner(System.in);\n",
    "char menu='y';\n",
    "\n",
    "do{\n",
    "    int number=random.nextInt(10)+1;\n",
    "    boolean success =false;\n",
    "    \n",
    "    do{\n",
    "        System.out.print(\"tebak angka (1-10): \");\n",
    "        int answer= input.nextInt();\n",
    "        input.nextLine();\n",
    "        \n",
    "        if(answer==number){\n",
    "            System.out.println(\"yay... tebakan anda benar... selamat!!!\");\n",
    "            success=true;\n",
    "        } else if(answer<number){\n",
    "            System.out.println(\"kurang besar\");\n",
    "        } else if(answer>number){\n",
    "            System.out.println(\"kucang kecil\");\n",
    "        }\n",
    "    } while(!success);\n",
    "    System.out.print(\"apakah anda ingin mengulang permainan (Y/y)?\");\n",
    "    menu=input.nextLine().charAt(0);\n",
    "} while(menu=='y' || menu == 'Y');"
   ]
  },
  {
   "cell_type": "code",
   "execution_count": 9,
   "metadata": {},
   "outputs": [
    {
     "name": "stdout",
     "output_type": "stream",
     "text": [
      "tebak angka (1-10): 1\n",
      "tebak angka (1-10): 1\n",
      "tebak angka (1-10): 1\n",
      "tebak angka (1-10): 1\n",
      "tebak angka (1-10): 1\n",
      "tebak angka (1-10): 1\n",
      "tebak angka (1-10): 1\n",
      "tebak angka (1-10): 1\n",
      "tebak angka (1-10): 1\n",
      "tebak angka (1-10): 1\n",
      "maaf anda gagal menebak angka sebanyak  10x"
     ]
    }
   ],
   "source": [
    "import java.util.Scanner;\n",
    "import java.util.Random;\n",
    "\n",
    "Random random = new Random();\n",
    "Scanner input = new Scanner(System.in);\n",
    "char menu='y';\n",
    "int i=1;\n",
    "\n",
    "do{\n",
    "    int number=random.nextInt(10)+1;\n",
    "    boolean success =false;\n",
    "    \n",
    "    do{\n",
    "        System.out.print(\"tebak angka (1-10): \");\n",
    "        int answer= input.nextInt();\n",
    "        input.nextLine();\n",
    "        i++;\n",
    "        \n",
    "        if(answer==number){\n",
    "            System.out.println(\"yay... tebakan anda benar... selamat!!!\");\n",
    "            success=true;\n",
    "        }\n",
    "    } while(i<=10);\n",
    "    if(success==true){\n",
    "    System.out.print(\"apakah anda ingin mengulang permainan (Y/y)?\");\n",
    "    menu=input.nextLine().charAt(0);\n",
    "    } else{\n",
    "        System.out.print(\"maaf anda gagal menebak angka sebanyak  10x\");\n",
    "        break;\n",
    "    }\n",
    "} while(menu=='y' || menu == 'Y');\n"
   ]
  },
  {
   "cell_type": "markdown",
   "metadata": {},
   "source": [
    "***\n",
    "## Tugas\n",
    "### Soal 1\n",
    "Buatlah program yang **sesuai** dengan alur _flowchart_ di bawah ini\n",
    "![Soal 1](images/Soal-01.png)\n",
    "\n",
    "Apabila kode program sesuai _flowchart_, maka untuk nilai N = 5 akan menghasilkan output seperti gambar berikut\n",
    "![Soal 1 A](images/Soal-01.1.png)"
   ]
  },
  {
   "cell_type": "code",
   "execution_count": 14,
   "metadata": {},
   "outputs": [
    {
     "name": "stdout",
     "output_type": "stream",
     "text": [
      "masukkan nilai N: 5\n",
      "    *\n",
      "   **\n",
      "  ***\n",
      " ****\n",
      "*****\n"
     ]
    }
   ],
   "source": [
    "import java.util.Scanner;\n",
    "Scanner sc = new Scanner(System.in);\n",
    "int N;\n",
    "\n",
    "System.out.print(\"masukkan nilai N: \");\n",
    "N = sc.nextInt();\n",
    "int i=1;\n",
    "\n",
    "do{\n",
    "    int j=N;\n",
    "    do{\n",
    "        if(i<j){\n",
    "            System.out.print(\" \");\n",
    "        } else{\n",
    "            System.out.print(\"*\");\n",
    "        }\n",
    "        j--;\n",
    "    } while(j>=1);\n",
    "System.out.println();\n",
    "i++;\n",
    "} while(i<=N);"
   ]
  },
  {
   "cell_type": "markdown",
   "metadata": {},
   "source": [
    "***\n",
    "### Soal 2\n",
    "Buatlah program untuk mencetak tampilan persegi angka seperti di bawah ini berdasarkan input dari _keyboard_ N (nilai N minimal 3). Contoh N = 3, dan N = 5\n",
    "![Soal 2](images/Soal-02.png)"
   ]
  },
  {
   "cell_type": "code",
   "execution_count": 38,
   "metadata": {},
   "outputs": [
    {
     "name": "stdout",
     "output_type": "stream",
     "text": [
      "N= 5\n",
      "5 5 5 5 5 \n",
      "5       5\n",
      "5       5\n",
      "5       5\n",
      "5 5 5 5 5 \n"
     ]
    }
   ],
   "source": [
    "import java.util.Scanner;\n",
    "Scanner sc = new Scanner(System.in);\n",
    "System.out.print(\"N= \");\n",
    "int N= sc.nextInt();\n",
    "int range=N-2;\n",
    "\n",
    "if(N<2){\n",
    "    System.out.print(\"tidak bisa dibuat persegi\");\n",
    "} else{\n",
    "\n",
    "for(int i=1; i<=N; i++){\n",
    "    System.out.printf(\"%d \",N);\n",
    "}\n",
    "System.out.println();\n",
    "\n",
    "for(int i=1; i<=range; i++){\n",
    "    System.out.print(N+\" \");\n",
    "    for(int j=1;j<=range; j++){\n",
    "        System.out.print(\"  \");\n",
    "    }\n",
    "    System.out.println(N);\n",
    "}\n",
    "for(int i=1; i<=N; i++){\n",
    "    System.out.printf(\"%d \",N);\n",
    "}\n",
    "System.out.println();\n",
    "}"
   ]
  },
  {
   "cell_type": "markdown",
   "metadata": {},
   "source": [
    "***\n",
    "### Soal 3\n",
    "Buatlah program untuk mencetak tampilan piramida * seperti gambar di bawah ini, tinggi piramida berdasarkan input dari _keyboard_ N (nilai N minimal 3). Contoh N = 3, dan N = 5\n",
    "![Soal 3](images/Soal-03.png)"
   ]
  },
  {
   "cell_type": "code",
   "execution_count": 5,
   "metadata": {},
   "outputs": [
    {
     "name": "stdout",
     "output_type": "stream",
     "text": [
      "N = 5\n",
      "    *\n",
      "   ***\n",
      "  *****\n",
      " *******\n",
      "*********\n"
     ]
    }
   ],
   "source": [
    "Scanner sc = new Scanner(System.in);\n",
    "System.out.print(\"N = \");\n",
    "int N = sc.nextInt();\n",
    "int star=1;\n",
    "for (;N >=1 ; N--) {\n",
    "    for (int range=1;range<N; range++) {\n",
    "        System.out.print(\" \");\n",
    "    }\n",
    "    for (int i = 1; i <=star; i++) {\n",
    "        System.out.print(\"*\");\n",
    "    }\n",
    "    star+=2;\n",
    "    System.out.println();\n",
    "}\n"
   ]
  },
  {
   "cell_type": "code",
   "execution_count": null,
   "metadata": {},
   "outputs": [],
   "source": []
  }
 ],
 "metadata": {
  "kernelspec": {
   "display_name": "Java",
   "language": "java",
   "name": "java"
  },
  "language_info": {
   "codemirror_mode": "java",
   "file_extension": ".jshell",
   "mimetype": "text/x-java-source",
   "name": "Java",
   "pygments_lexer": "java",
   "version": "17.0.1+12-LTS-39"
  }
 },
 "nbformat": 4,
 "nbformat_minor": 1
}
