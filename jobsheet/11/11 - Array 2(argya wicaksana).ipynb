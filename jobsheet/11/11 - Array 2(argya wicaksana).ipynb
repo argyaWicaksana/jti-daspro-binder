{
 "cells": [
  {
   "cell_type": "markdown",
   "metadata": {},
   "source": [
    "# JOBSHEET 11. ARRAY 2"
   ]
  },
  {
   "cell_type": "markdown",
   "metadata": {},
   "source": [
    "## Tujuan\n",
    "* Mahasiswa mampu memahami pembuatan array dua dimensi\n",
    "* Mahasiswa mampu menyelesaikan studi kasus dengan memanfaatkan array dua dimensi"
   ]
  },
  {
   "cell_type": "markdown",
   "metadata": {},
   "source": [
    "## Alat dan Bahan\n",
    "* PC/Laptop\n",
    "* Browser\n",
    "* Koneksi internet\n",
    "* Anaconda3 + Java kernel (opsional)"
   ]
  },
  {
   "cell_type": "markdown",
   "metadata": {},
   "source": [
    "## Praktikum"
   ]
  },
  {
   "cell_type": "markdown",
   "metadata": {},
   "source": [
    "### Percobaan 1: Deklarasi, Inisialisasi, dan Menampilkan Array 2 Dimensi\n",
    "Pada Percobaan 1, kode program yang dibuat digunakan untuk menyimpan nilai praktikum dari 2 orang mahasiswa pada 3 mata kuliah yang berbeda.\n",
    "1.\tBuat array bertipe **integer** dengan nama **nilai** dengan kapasitas baris 2 elemen (menyatakan jumlah mahasiswa) dan kolom 3 elemen (menyatakan jumlah mata kuliah)\n",
    "![Gambar 1](images/percobaan1-1.PNG)"
   ]
  },
  {
   "cell_type": "code",
   "execution_count": 1,
   "metadata": {},
   "outputs": [],
   "source": [
    "int [][] nilai = new int[2][3];"
   ]
  },
  {
   "cell_type": "markdown",
   "metadata": {},
   "source": [
    "2. Isi masing-masing elemen array **nilai** sebagai berikut:\n",
    "![Gambar 2](images/percobaan1-2.PNG)"
   ]
  },
  {
   "cell_type": "code",
   "execution_count": 2,
   "metadata": {},
   "outputs": [
    {
     "data": {
      "text/plain": [
       "67"
      ]
     },
     "execution_count": 2,
     "metadata": {},
     "output_type": "execute_result"
    }
   ],
   "source": [
    "nilai[0][0]=75;\n",
    "nilai[0][1]=90;\n",
    "nilai[0][2]=88;\n",
    "nilai[1][0]=79;\n",
    "nilai[1][1]=82;\n",
    "nilai[1][2]=67;"
   ]
  },
  {
   "cell_type": "markdown",
   "metadata": {},
   "source": [
    "3. Tampilkan semua isi elemen array **nilai**\n",
    "![Gambar 3](images/percobaan1-3.PNG)"
   ]
  },
  {
   "cell_type": "code",
   "execution_count": 4,
   "metadata": {},
   "outputs": [
    {
     "name": "stdout",
     "output_type": "stream",
     "text": [
      "75 90 88\n",
      "79 82 67\n"
     ]
    }
   ],
   "source": [
    "System.out.println(nilai[0][0]+\" \"+nilai[0][1]+\" \"+nilai[0][2]);\n",
    "System.out.println(nilai[1][0]+\" \"+nilai[1][1]+\" \"+nilai[1][2]);"
   ]
  },
  {
   "cell_type": "markdown",
   "metadata": {},
   "source": [
    "#### Pertanyaan\n",
    "1. Apakah pengisian elemen array harus dilakukan secara berurutan mulai dari indeks 0? Jelaskan!"
   ]
  },
  {
   "cell_type": "markdown",
   "metadata": {},
   "source": [
    "tidak, tergantung bagaimana mengodingnya.\n",
    "misal nilai[1][1] diisi terlebih dahulu, lalu nilai[0][0]. hal ini sangat mungkin untuk dilakukan"
   ]
  },
  {
   "cell_type": "markdown",
   "metadata": {},
   "source": [
    "2. Lakukan modifikasi pada Percobaan 1 Langkah 3 untuk menampilkan semua isi elemen array **nilai** menggunakan perulangan *for*"
   ]
  },
  {
   "cell_type": "code",
   "execution_count": 6,
   "metadata": {},
   "outputs": [
    {
     "name": "stdout",
     "output_type": "stream",
     "text": [
      "75 90 88 \n",
      "79 82 67 \n"
     ]
    }
   ],
   "source": [
    "for(int i=0; i<nilai.length; i++){\n",
    "    for(int j=0; j<nilai[0].length; j++){\n",
    "        System.out.printf(\"%d \",nilai[i][j]);\n",
    "    }\n",
    "    System.out.println();\n",
    "}"
   ]
  },
  {
   "cell_type": "markdown",
   "metadata": {},
   "source": [
    "### Percobaan 2: Mengisi Elemen Array 2 Dimensi Menggunakan Input Keyboard\n",
    "Pada Percobaan 2, kode program yang dibuat digunakan untuk menyimpan nilai rating restoran yang terdaftar pada aplikasi pemesanan makanan online. Rating diberikan oleh 4 orang pengguna kepada 2 restoran yang terdaftar.\n",
    "1. Import dan deklarasikan Scanner dengan nama **sc**\n",
    "![Gambar 4](images/percobaan2-1.jpg)"
   ]
  },
  {
   "cell_type": "code",
   "execution_count": 7,
   "metadata": {},
   "outputs": [],
   "source": [
    "import java.util.Scanner;\n",
    "Scanner sc= new Scanner(System.in);"
   ]
  },
  {
   "cell_type": "markdown",
   "metadata": {},
   "source": [
    "2.\tBuat array bertipe **integer** dengan nama **rating** dengan kapasitas baris 4 elemen (menyatakan jumlah pengguna) dan kolom 2 elemen (menyatakan jumlah restoran)\n",
    "![Gambar 5](images/percobaan2-2.PNG)"
   ]
  },
  {
   "cell_type": "code",
   "execution_count": 8,
   "metadata": {},
   "outputs": [],
   "source": [
    "int [][] rating=new int [4][2];"
   ]
  },
  {
   "cell_type": "markdown",
   "metadata": {},
   "source": [
    "3. Dengan menggunakan perulangan *for*, buat input untuk mengisi elemen array **rating**\n",
    "![Gambar 6](images/percobaan2-3.PNG)"
   ]
  },
  {
   "cell_type": "code",
   "execution_count": 12,
   "metadata": {},
   "outputs": [
    {
     "name": "stdout",
     "output_type": "stream",
     "text": [
      "masukkan rating pengguna 0 untuk restoran 0 : 9\n",
      "masukkan rating pengguna 0 untuk restoran 1 : 8\n",
      "\n",
      "masukkan rating pengguna 1 untuk restoran 0 : 8\n",
      "masukkan rating pengguna 1 untuk restoran 1 : 7\n",
      "\n",
      "masukkan rating pengguna 2 untuk restoran 0 : 8\n",
      "masukkan rating pengguna 2 untuk restoran 1 : 8\n",
      "\n",
      "masukkan rating pengguna 3 untuk restoran 0 : 7\n",
      "masukkan rating pengguna 3 untuk restoran 1 : 7\n",
      "\n"
     ]
    }
   ],
   "source": [
    "for(int i=0; i<rating.length; i++){\n",
    "    for(int j=0; j< rating[0].length; j++){\n",
    "        System.out.print(\"masukkan rating pengguna \"+i+\" untuk restoran \"+j+\" : \");\n",
    "        rating[i][j]=sc.nextInt();\n",
    "    }\n",
    "    System.out.println(\"\");\n",
    "}"
   ]
  },
  {
   "cell_type": "markdown",
   "metadata": {},
   "source": [
    "4. Dengan menggunakan perulangan *for-each*, tampilkan semua isi elemen dari array **rating**\n",
    "![Gambar 7](images/percobaan2-4.PNG)"
   ]
  },
  {
   "cell_type": "code",
   "execution_count": 13,
   "metadata": {},
   "outputs": [
    {
     "name": "stdout",
     "output_type": "stream",
     "text": [
      "9 8 \n",
      "8 7 \n",
      "8 8 \n",
      "7 7 \n"
     ]
    }
   ],
   "source": [
    "for(int[] rtg:rating){\n",
    "    for(int r:rtg){\n",
    "        System.out.print(r+\" \");\n",
    "    }\n",
    "    System.out.println(\"\");\n",
    "}"
   ]
  },
  {
   "cell_type": "markdown",
   "metadata": {},
   "source": [
    "#### Pertanyaan\n",
    "1. Pada Percobaan 2 Langkah 3, dapatkah posisi i ditukar dengan posisi j? Jelaskan alasannya!"
   ]
  },
  {
   "cell_type": "markdown",
   "metadata": {},
   "source": [
    "bisa, jika rating[i][j] diubah menjadi rating[j][i], yg terjadi adalah baris akan diisi terlebih dahulu,\n",
    "lalu akan berpindah ke kolom selanjutnya"
   ]
  },
  {
   "cell_type": "markdown",
   "metadata": {},
   "source": [
    "2. Tambahkan kode program untuk menentukan banyaknya baris dan kolom elemen array secara dinamis (baris dan kolom ditentukan saat program berjalan melalui input keyboard)!"
   ]
  },
  {
   "cell_type": "code",
   "execution_count": 2,
   "metadata": {},
   "outputs": [
    {
     "name": "stdout",
     "output_type": "stream",
     "text": [
      "masukkan baris: 2\n",
      "masukkan kolom: 2\n",
      "input array[0][0]: 9\n",
      "input array[0][1]: 10\n",
      "input array[1][0]: 8\n",
      "input array[1][1]: 9\n"
     ]
    }
   ],
   "source": [
    "import java.util.Scanner;\n",
    "Scanner sc = new Scanner(System.in);\n",
    "System.out.print(\"masukkan baris: \");\n",
    "int baris= sc.nextInt();\n",
    "System.out.print(\"masukkan kolom: \");\n",
    "int kolom= sc.nextInt();\n",
    "int array[][] =new int [baris][kolom];\n",
    "\n",
    "for(int i=0;i<array.length;i++){\n",
    "    for(int j=0;j<array[0].length;j++){\n",
    "        System.out.printf(\"input array[%d][%d]: \",i,j);\n",
    "        array[i][j]=sc.nextInt();\n",
    "    }\n",
    "}"
   ]
  },
  {
   "cell_type": "markdown",
   "metadata": {},
   "source": [
    "### Percobaan 3: Melakukan Operasi Aritmatika pada Elemen Array 2 Dimensi\n",
    "Pada Percobaan 3, kode program yang dibuat digunakan untuk menghitung nilai rata-rata harga setiap bahan pokok selama 1 semester. Terdapat 3 bahan pokok yang dicatat harganya setiap akhir bulan. Program dibuat berdasarkan flowchart berikut.\n",
    "![Gambar 8](images/percobaan3.jpg)\n",
    "1. Import dan deklarasikan Scanner dengan nama **sc**\n",
    "![Gambar 9](images/percobaan3-1.jpg)"
   ]
  },
  {
   "cell_type": "code",
   "execution_count": 14,
   "metadata": {},
   "outputs": [],
   "source": [
    "import java.util.Scanner;\n",
    "Scanner sc=new Scanner(System.in);"
   ]
  },
  {
   "cell_type": "markdown",
   "metadata": {},
   "source": [
    "2.\tBuat array bertipe **integer** dengan nama **harga** dengan kapasitas baris 3 elemen (menyatakan jumlah bahan pokok) dan kolom 6 elemen (menyatakan jumlah bulan). Deklarasikan juga variabel **total** dan **rata** bertipe **double**\n",
    "![Gambar 10](images/percobaan3-2.PNG)"
   ]
  },
  {
   "cell_type": "code",
   "execution_count": 15,
   "metadata": {},
   "outputs": [],
   "source": [
    "int [][] harga=new int [3][6];\n",
    "double total,rata;"
   ]
  },
  {
   "cell_type": "markdown",
   "metadata": {},
   "source": [
    "3. Dengan menggunakan perulangan *for*, buat input untuk mengisi elemen array **harga**. Kemudian, perhitungan total harga dilakukan untuk setiap bulan (kolom) pada setiap bahan pokok (baris). Setelah itu, nilai rata-rata dihitung untuk setiap bahan pokok (tiap satu baris) dan ditampilkan\n",
    "![Gambar 11](images/percobaan3-3.PNG)"
   ]
  },
  {
   "cell_type": "code",
   "execution_count": 18,
   "metadata": {},
   "outputs": [
    {
     "name": "stdout",
     "output_type": "stream",
     "text": [
      "masukkan harga[0][0]: 10000\n",
      "masukkan harga[0][1]: 12000\n",
      "masukkan harga[0][2]: 8000\n",
      "masukkan harga[0][3]: 7000\n",
      "masukkan harga[0][4]: 5000\n",
      "masukkan harga[0][5]: 13000\n",
      "rata-rata harga bahan ke-0 adalah 9166.67\n",
      "masukkan harga[1][0]: 10000\n",
      "masukkan harga[1][1]: 10000\n",
      "masukkan harga[1][2]: 10000\n",
      "masukkan harga[1][3]: 10000\n",
      "masukkan harga[1][4]: 10000\n",
      "masukkan harga[1][5]: 10000\n",
      "rata-rata harga bahan ke-1 adalah 10000.00\n",
      "masukkan harga[2][0]: 7000\n",
      "masukkan harga[2][1]: 8000\n",
      "masukkan harga[2][2]: 9000\n",
      "masukkan harga[2][3]: 8000\n",
      "masukkan harga[2][4]: 9000\n",
      "masukkan harga[2][5]: 10000\n",
      "rata-rata harga bahan ke-2 adalah 8500.00\n"
     ]
    }
   ],
   "source": [
    "for(int i=0;i<harga.length; i++){\n",
    "    total=0;\n",
    "    //rata=0;\n",
    "    for(int j=0; j<harga[0].length; j++){\n",
    "        System.out.printf(\"masukkan harga[%d][%d]: \",i,j);\n",
    "        harga[i][j]=sc.nextInt();\n",
    "        total+=harga[i][j];\n",
    "    }\n",
    "    rata=total/harga[0].length;\n",
    "    System.out.printf(\"rata-rata harga bahan ke-%d adalah %.2f\\n\",i,rata);\n",
    "}"
   ]
  },
  {
   "cell_type": "markdown",
   "metadata": {},
   "source": [
    "# Pertanyaan\n",
    "1. Jelaskan fungsi dari **rata = total / harga[0].length**!"
   ]
  },
  {
   "cell_type": "markdown",
   "metadata": {},
   "source": [
    "untuk menghitung rata\" setiap semester"
   ]
  },
  {
   "cell_type": "markdown",
   "metadata": {},
   "source": [
    "2. Mengapa insialisasi variabel **total = 0** dan **rata = 0** berada di dalam perulangan *for* yang pertama? Menurut Anda, apa yang terjadi jika inisialisasi kedua variabel tersebut diletakkan di luar perulangan *for* (setelah deklarasi array)?"
   ]
  },
  {
   "cell_type": "markdown",
   "metadata": {},
   "source": [
    "agar total mereset nilai yang tadinya ditambah terus dengan harga[i][j], menjadi 0 kembali, untuk rata sebenarnya\n",
    "tidak perlu dikasih rata=0, karena variabel rata tidak ditambah, hanya rata=total/harga[0].length. jika total=0\n",
    "diletakkan di luar perulangan, hasilnya akan kacau, misal pada perulangan pertama total=10000, saat perulangan \n",
    "selanjutnya adalah totak=total lama(10000)+ total yg benar(misal 12000)."
   ]
  },
  {
   "cell_type": "markdown",
   "metadata": {},
   "source": [
    "## Tugas"
   ]
  },
  {
   "cell_type": "markdown",
   "metadata": {},
   "source": [
    "1. Perhatikan flowchart berikut.\n",
    "![Gambar 12](images/tugas-1.jpg)\n",
    "Buat kode program sesuai dengan flowchart tersebut untuk mencari suhu tertinggi yang dicatat dari 5 kota di Jepang selama 7 hari berturut-turut!"
   ]
  },
  {
   "cell_type": "code",
   "execution_count": 19,
   "metadata": {},
   "outputs": [
    {
     "name": "stdout",
     "output_type": "stream",
     "text": [
      "input suhu: 25\n",
      "input suhu: 35\n",
      "input suhu: 34\n",
      "input suhu: 33\n",
      "input suhu: 32\n",
      "input suhu: 31\n",
      "input suhu: 30\n",
      "input suhu: 30\n",
      "input suhu: 29\n",
      "input suhu: 29\n",
      "input suhu: 32\n",
      "input suhu: 33\n",
      "input suhu: 30\n",
      "input suhu: 30\n",
      "input suhu: 30\n",
      "input suhu: 36\n",
      "input suhu: 38\n",
      "input suhu: 40\n",
      "input suhu: 25\n",
      "input suhu: 25\n",
      "input suhu: 25\n",
      "input suhu: 25\n",
      "input suhu: 33\n",
      "input suhu: 33\n",
      "input suhu: 33\n",
      "input suhu: 33\n",
      "input suhu: 33\n",
      "input suhu: 34\n",
      "input suhu: 34\n",
      "input suhu: 32\n",
      "input suhu: 32\n",
      "input suhu: 32\n",
      "input suhu: 32\n",
      "input suhu: 32\n",
      "input suhu: 32\n",
      "max: 40.0"
     ]
    }
   ],
   "source": [
    "import java.util.Scanner;\n",
    "Scanner sc= new Scanner(System.in);\n",
    "double suhu[][]= new double [5][7];\n",
    "int x,y;\n",
    "double max=0;\n",
    "\n",
    "for(x=0; x<suhu.length;x++){\n",
    "    for(y=0; y<suhu[0].length;y++){\n",
    "        System.out.print(\"input suhu: \");\n",
    "        suhu[x][y]= sc.nextInt();\n",
    "        \n",
    "        if(suhu[x][y]>max){\n",
    "            max=suhu[x][y];\n",
    "        }\n",
    "    }\n",
    "}\n",
    "System.out.print(\"max: \"+max);"
   ]
  },
  {
   "cell_type": "markdown",
   "metadata": {},
   "source": [
    "2. Terdapat hasil pencatatan data lima mahasiswa yang berisi informasi mengenai umur, berat badan (kg), dan tinggi badan (cm). Data tersebut disimpan ke dalam array dua dimensi.\n",
    "![Gambar 13](images/tugas-2.PNG)\n",
    "*Keterangan: penyimpanan nilai dapat dilakukan melalui inisialisasi menggunakan operator assignment*\n",
    " * Tampilkan *berat badan terendah* di antara kelima mahasiswa tersebut\n",
    " * Tampilkan *rata-rata tinggi badan* dari kelima mahasiswa tersebut\n",
    " * Tampilkan nama mahasiswa dengan *umur tertua* di antara kelima mahasiswa tersebut"
   ]
  },
  {
   "cell_type": "code",
   "execution_count": 50,
   "metadata": {},
   "outputs": [
    {
     "name": "stdout",
     "output_type": "stream",
     "text": [
      "berat badan terendah adalah 45 kg\n",
      "rata-rata tinggi badan mahasiswa adalah 157.80 cm\n",
      "mahasiswa tertua dari kelima mahasiswa tersebut adalah Beky\n"
     ]
    },
    {
     "data": {
      "text/plain": [
       "java.io.PrintStream@1803dc54"
      ]
     },
     "execution_count": 50,
     "metadata": {},
     "output_type": "execute_result"
    }
   ],
   "source": [
    "int array [][]={{19,51,155},{18,55,163},{18,45,153},{20,46,158},{19,58,160}};\n",
    "String mahasiswa[]={\"Desi\",\"Rofan\",\"Lala\",\"Beky\",\"Ega\"};\n",
    "int min=array[0][1];\n",
    "String nama;\n",
    "int tua=(byte)array[0][0];\n",
    "double rata, total=0;\n",
    "for(int i=0;i<5;i++){\n",
    "    if(array[i][1]<min){\n",
    "        min=array[i][1];\n",
    "    }\n",
    "    \n",
    "    total+=array[i][2];\n",
    "    \n",
    "    if(array[i][0]>tua){\n",
    "        tua=array[i][0];\n",
    "        nama=mahasiswa[i];\n",
    "    }\n",
    "}\n",
    "System.out.printf(\"berat badan terendah adalah %d kg\\n\",min);\n",
    "rata=total/5;\n",
    "System.out.printf(\"rata-rata tinggi badan mahasiswa adalah %.2f cm\\n\" ,rata);\n",
    "System.out.printf(\"mahasiswa tertua dari kelima mahasiswa tersebut adalah %s\\n\",nama);"
   ]
  }
 ],
 "metadata": {
  "kernelspec": {
   "display_name": "Java",
   "language": "java",
   "name": "java"
  },
  "language_info": {
   "codemirror_mode": "java",
   "file_extension": ".jshell",
   "mimetype": "text/x-java-source",
   "name": "Java",
   "pygments_lexer": "java",
   "version": "17.0.1+12-LTS-39"
  }
 },
 "nbformat": 4,
 "nbformat_minor": 4
}
